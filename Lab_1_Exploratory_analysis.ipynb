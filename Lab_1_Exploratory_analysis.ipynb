{
  "nbformat": 4,
  "nbformat_minor": 0,
  "metadata": {
    "colab": {
      "name": "Lab_1.Exploratory_analysis.ipynb",
      "provenance": [],
      "collapsed_sections": [
        "vDY7mAWAqhla"
      ]
    },
    "kernelspec": {
      "display_name": "Python 3",
      "language": "python",
      "name": "python3"
    },
    "language_info": {
      "codemirror_mode": {
        "name": "ipython",
        "version": 3
      },
      "file_extension": ".py",
      "mimetype": "text/x-python",
      "name": "python",
      "nbconvert_exporter": "python",
      "pygments_lexer": "ipython3",
      "version": "3.8.5"
    }
  },
  "cells": [
    {
      "cell_type": "markdown",
      "metadata": {
        "id": "5TKas9-HqhlU"
      },
      "source": [
        "# <center> Майнор \"Интеллектуальный анализ данных\" </center>"
      ]
    },
    {
      "cell_type": "code",
      "metadata": {
        "colab": {
          "base_uri": "https://localhost:8080/"
        },
        "id": "Vhq31ofhz-iq",
        "outputId": "73ca869c-de41-4025-91f2-6a9f0f59ecef"
      },
      "source": [
        "from google.colab import drive\n",
        "drive.mount('/content/drive')"
      ],
      "execution_count": null,
      "outputs": [
        {
          "output_type": "stream",
          "text": [
            "Drive already mounted at /content/drive; to attempt to forcibly remount, call drive.mount(\"/content/drive\", force_remount=True).\n"
          ],
          "name": "stdout"
        }
      ]
    },
    {
      "cell_type": "markdown",
      "metadata": {
        "id": "vDY7mAWAqhla"
      },
      "source": [
        "# <center> Курс \"Введение в анализ данных\" </center>"
      ]
    },
    {
      "cell_type": "markdown",
      "metadata": {
        "id": "t7jXybQRqhlb"
      },
      "source": [
        "# <center> Лабораторная работа №1. Обработка и первичный анализ данных </center>"
      ]
    },
    {
      "cell_type": "markdown",
      "metadata": {
        "id": "LcDqFh-xqhlb"
      },
      "source": [
        "## Данные"
      ]
    },
    {
      "cell_type": "markdown",
      "metadata": {
        "id": "A76BepXnqhlb"
      },
      "source": [
        "В рамках данной лабораторной работы вам предлагается проанализировать набор данных о студентах двух школ в Португалии.  \n",
        "В файле `students_data.csv` представлена информация о студентах, посещающих два курса - математику (`Math`) и поргутальский язык (`Por`). Некоторые студенты представлены в обоих курсах, некоторые - только в одном. Для каждого студента известны три оценки по курсу: оценка за первое полугодие (`G1`), оценка за второе полугодие (`G2`) и итоговая оценка за год (`G3`)."
      ]
    },
    {
      "cell_type": "code",
      "metadata": {
        "id": "9gF3Zg9iqhlc"
      },
      "source": [
        "from collections import Counter\n",
        "import pandas as pd\n",
        "import numpy as np\n",
        "import seaborn as sns\n",
        "import matplotlib.pyplot as plt\n",
        "from sklearn.impute import SimpleImputer\n",
        "from sklearn.ensemble import IsolationForest\n",
        "from scipy import stats\n",
        "# from sklearn.preprocessing import OrdinalEncoder\n",
        "\n",
        "import warnings\n",
        "warnings.filterwarnings('ignore')\n",
        "\n",
        "%matplotlib inline"
      ],
      "execution_count": 708,
      "outputs": []
    },
    {
      "cell_type": "code",
      "metadata": {
        "id": "WUB4v_EVqhlc"
      },
      "source": [
        "pd.set_option('display.max_columns', None)\n",
        "pd.set_option('display.max_colwidth', None)"
      ],
      "execution_count": 709,
      "outputs": []
    },
    {
      "cell_type": "code",
      "metadata": {
        "colab": {
          "base_uri": "https://localhost:8080/"
        },
        "id": "8OfNsHLUqhld",
        "outputId": "2d5e0b52-414b-4c1d-ed72-2ebaaf60f5e7"
      },
      "source": [
        "data = pd.read_csv(\"/content/drive/MyDrive/IAD/Lab_1/students_data.csv\")\n",
        "data.shape"
      ],
      "execution_count": 710,
      "outputs": [
        {
          "output_type": "execute_result",
          "data": {
            "text/plain": [
              "(1044, 36)"
            ]
          },
          "metadata": {
            "tags": []
          },
          "execution_count": 710
        }
      ]
    },
    {
      "cell_type": "code",
      "metadata": {
        "colab": {
          "base_uri": "https://localhost:8080/",
          "height": 517
        },
        "id": "DmbkvMQ6qhlf",
        "outputId": "0dcb4b94-a669-4e9f-b456-9c1c6b8d6c92"
      },
      "source": [
        "data.head(15)"
      ],
      "execution_count": 711,
      "outputs": [
        {
          "output_type": "execute_result",
          "data": {
            "text/html": [
              "<div>\n",
              "<style scoped>\n",
              "    .dataframe tbody tr th:only-of-type {\n",
              "        vertical-align: middle;\n",
              "    }\n",
              "\n",
              "    .dataframe tbody tr th {\n",
              "        vertical-align: top;\n",
              "    }\n",
              "\n",
              "    .dataframe thead th {\n",
              "        text-align: right;\n",
              "    }\n",
              "</style>\n",
              "<table border=\"1\" class=\"dataframe\">\n",
              "  <thead>\n",
              "    <tr style=\"text-align: right;\">\n",
              "      <th></th>\n",
              "      <th>ID</th>\n",
              "      <th>Subject</th>\n",
              "      <th>school</th>\n",
              "      <th>sex</th>\n",
              "      <th>age</th>\n",
              "      <th>address</th>\n",
              "      <th>famsize</th>\n",
              "      <th>Pstatus</th>\n",
              "      <th>Medu</th>\n",
              "      <th>Fedu</th>\n",
              "      <th>Mjob</th>\n",
              "      <th>Fjob</th>\n",
              "      <th>reason</th>\n",
              "      <th>guardian</th>\n",
              "      <th>traveltime</th>\n",
              "      <th>studytime</th>\n",
              "      <th>failures</th>\n",
              "      <th>schoolsup</th>\n",
              "      <th>famsup</th>\n",
              "      <th>paid</th>\n",
              "      <th>activities</th>\n",
              "      <th>nursery</th>\n",
              "      <th>higher</th>\n",
              "      <th>internet</th>\n",
              "      <th>romantic</th>\n",
              "      <th>famrel</th>\n",
              "      <th>freetime</th>\n",
              "      <th>goout</th>\n",
              "      <th>Dalc</th>\n",
              "      <th>Walc</th>\n",
              "      <th>health</th>\n",
              "      <th>absences</th>\n",
              "      <th>cheating</th>\n",
              "      <th>G1</th>\n",
              "      <th>G2</th>\n",
              "      <th>G3</th>\n",
              "    </tr>\n",
              "  </thead>\n",
              "  <tbody>\n",
              "    <tr>\n",
              "      <th>0</th>\n",
              "      <td>100097</td>\n",
              "      <td>Por</td>\n",
              "      <td>GP</td>\n",
              "      <td>F</td>\n",
              "      <td>16</td>\n",
              "      <td>U</td>\n",
              "      <td>GT3</td>\n",
              "      <td>A</td>\n",
              "      <td>3</td>\n",
              "      <td>4</td>\n",
              "      <td>services</td>\n",
              "      <td>other</td>\n",
              "      <td>course</td>\n",
              "      <td>father</td>\n",
              "      <td>1</td>\n",
              "      <td>1</td>\n",
              "      <td>0</td>\n",
              "      <td>no</td>\n",
              "      <td>no</td>\n",
              "      <td>no</td>\n",
              "      <td>no</td>\n",
              "      <td>yes</td>\n",
              "      <td>yes</td>\n",
              "      <td>yes</td>\n",
              "      <td>no</td>\n",
              "      <td>3.0</td>\n",
              "      <td>2</td>\n",
              "      <td>1</td>\n",
              "      <td>1.0</td>\n",
              "      <td>4.0</td>\n",
              "      <td>5</td>\n",
              "      <td>12</td>\n",
              "      <td>NaN</td>\n",
              "      <td>15</td>\n",
              "      <td>13</td>\n",
              "      <td>14</td>\n",
              "    </tr>\n",
              "    <tr>\n",
              "      <th>1</th>\n",
              "      <td>101021</td>\n",
              "      <td>Por</td>\n",
              "      <td>GP</td>\n",
              "      <td>F</td>\n",
              "      <td>17</td>\n",
              "      <td>U</td>\n",
              "      <td>GT3</td>\n",
              "      <td>T</td>\n",
              "      <td>3</td>\n",
              "      <td>2</td>\n",
              "      <td>other</td>\n",
              "      <td>other</td>\n",
              "      <td>course</td>\n",
              "      <td>mother</td>\n",
              "      <td>1</td>\n",
              "      <td>2</td>\n",
              "      <td>0</td>\n",
              "      <td>no</td>\n",
              "      <td>no</td>\n",
              "      <td>no</td>\n",
              "      <td>yes</td>\n",
              "      <td>no</td>\n",
              "      <td>yes</td>\n",
              "      <td>yes</td>\n",
              "      <td>no</td>\n",
              "      <td>5.0</td>\n",
              "      <td>3</td>\n",
              "      <td>4</td>\n",
              "      <td>1.0</td>\n",
              "      <td>3.0</td>\n",
              "      <td>3</td>\n",
              "      <td>2</td>\n",
              "      <td>NaN</td>\n",
              "      <td>17</td>\n",
              "      <td>18</td>\n",
              "      <td>17</td>\n",
              "    </tr>\n",
              "    <tr>\n",
              "      <th>2</th>\n",
              "      <td>102965</td>\n",
              "      <td>Por</td>\n",
              "      <td>GP</td>\n",
              "      <td>M</td>\n",
              "      <td>16</td>\n",
              "      <td>U</td>\n",
              "      <td>LE3</td>\n",
              "      <td>T</td>\n",
              "      <td>1</td>\n",
              "      <td>2</td>\n",
              "      <td>health</td>\n",
              "      <td>services</td>\n",
              "      <td>course</td>\n",
              "      <td>mother</td>\n",
              "      <td>2</td>\n",
              "      <td>1</td>\n",
              "      <td>2</td>\n",
              "      <td>no</td>\n",
              "      <td>no</td>\n",
              "      <td>no</td>\n",
              "      <td>no</td>\n",
              "      <td>no</td>\n",
              "      <td>yes</td>\n",
              "      <td>yes</td>\n",
              "      <td>no</td>\n",
              "      <td>4.0</td>\n",
              "      <td>4</td>\n",
              "      <td>5</td>\n",
              "      <td>3.0</td>\n",
              "      <td>5.0</td>\n",
              "      <td>5</td>\n",
              "      <td>0</td>\n",
              "      <td>yes</td>\n",
              "      <td>9</td>\n",
              "      <td>8</td>\n",
              "      <td>10</td>\n",
              "    </tr>\n",
              "    <tr>\n",
              "      <th>3</th>\n",
              "      <td>102989</td>\n",
              "      <td>Por</td>\n",
              "      <td>MS</td>\n",
              "      <td>M</td>\n",
              "      <td>17</td>\n",
              "      <td>U</td>\n",
              "      <td>GT3</td>\n",
              "      <td>T</td>\n",
              "      <td>2</td>\n",
              "      <td>3</td>\n",
              "      <td>other</td>\n",
              "      <td>services</td>\n",
              "      <td>home</td>\n",
              "      <td>father</td>\n",
              "      <td>2</td>\n",
              "      <td>2</td>\n",
              "      <td>0</td>\n",
              "      <td>no</td>\n",
              "      <td>no</td>\n",
              "      <td>no</td>\n",
              "      <td>yes</td>\n",
              "      <td>yes</td>\n",
              "      <td>yes</td>\n",
              "      <td>yes</td>\n",
              "      <td>no</td>\n",
              "      <td>4.0</td>\n",
              "      <td>4</td>\n",
              "      <td>3</td>\n",
              "      <td>1.0</td>\n",
              "      <td>1.0</td>\n",
              "      <td>3</td>\n",
              "      <td>4</td>\n",
              "      <td>no</td>\n",
              "      <td>14</td>\n",
              "      <td>15</td>\n",
              "      <td>16</td>\n",
              "    </tr>\n",
              "    <tr>\n",
              "      <th>4</th>\n",
              "      <td>103131</td>\n",
              "      <td>Por</td>\n",
              "      <td>GP</td>\n",
              "      <td>F</td>\n",
              "      <td>16</td>\n",
              "      <td>U</td>\n",
              "      <td>GT3</td>\n",
              "      <td>T</td>\n",
              "      <td>1</td>\n",
              "      <td>1</td>\n",
              "      <td>at_home</td>\n",
              "      <td>other</td>\n",
              "      <td>home</td>\n",
              "      <td>mother</td>\n",
              "      <td>2</td>\n",
              "      <td>1</td>\n",
              "      <td>0</td>\n",
              "      <td>no</td>\n",
              "      <td>yes</td>\n",
              "      <td>no</td>\n",
              "      <td>no</td>\n",
              "      <td>yes</td>\n",
              "      <td>yes</td>\n",
              "      <td>no</td>\n",
              "      <td>NaN</td>\n",
              "      <td>4.0</td>\n",
              "      <td>3</td>\n",
              "      <td>2</td>\n",
              "      <td>1.0</td>\n",
              "      <td>4.0</td>\n",
              "      <td>5</td>\n",
              "      <td>2</td>\n",
              "      <td>yes</td>\n",
              "      <td>12</td>\n",
              "      <td>13</td>\n",
              "      <td>13</td>\n",
              "    </tr>\n",
              "    <tr>\n",
              "      <th>5</th>\n",
              "      <td>103144</td>\n",
              "      <td>Por</td>\n",
              "      <td>GP</td>\n",
              "      <td>M</td>\n",
              "      <td>18</td>\n",
              "      <td>U</td>\n",
              "      <td>LE3</td>\n",
              "      <td>T</td>\n",
              "      <td>3</td>\n",
              "      <td>1</td>\n",
              "      <td>services</td>\n",
              "      <td>services</td>\n",
              "      <td>course</td>\n",
              "      <td>mother</td>\n",
              "      <td>2</td>\n",
              "      <td>1</td>\n",
              "      <td>0</td>\n",
              "      <td>no</td>\n",
              "      <td>no</td>\n",
              "      <td>no</td>\n",
              "      <td>yes</td>\n",
              "      <td>yes</td>\n",
              "      <td>yes</td>\n",
              "      <td>yes</td>\n",
              "      <td>yes</td>\n",
              "      <td>3.0</td>\n",
              "      <td>3</td>\n",
              "      <td>4</td>\n",
              "      <td>4.0</td>\n",
              "      <td>5.0</td>\n",
              "      <td>4</td>\n",
              "      <td>2</td>\n",
              "      <td>NaN</td>\n",
              "      <td>11</td>\n",
              "      <td>11</td>\n",
              "      <td>12</td>\n",
              "    </tr>\n",
              "    <tr>\n",
              "      <th>6</th>\n",
              "      <td>105257</td>\n",
              "      <td>Por</td>\n",
              "      <td>MS</td>\n",
              "      <td>F</td>\n",
              "      <td>18</td>\n",
              "      <td>U</td>\n",
              "      <td>GT3</td>\n",
              "      <td>T</td>\n",
              "      <td>1</td>\n",
              "      <td>1</td>\n",
              "      <td>other</td>\n",
              "      <td>other</td>\n",
              "      <td>course</td>\n",
              "      <td>mother</td>\n",
              "      <td>2</td>\n",
              "      <td>2</td>\n",
              "      <td>0</td>\n",
              "      <td>no</td>\n",
              "      <td>no</td>\n",
              "      <td>no</td>\n",
              "      <td>yes</td>\n",
              "      <td>yes</td>\n",
              "      <td>yes</td>\n",
              "      <td>no</td>\n",
              "      <td>no</td>\n",
              "      <td>1.0</td>\n",
              "      <td>1</td>\n",
              "      <td>1</td>\n",
              "      <td>1.0</td>\n",
              "      <td>1.0</td>\n",
              "      <td>5</td>\n",
              "      <td>6</td>\n",
              "      <td>NaN</td>\n",
              "      <td>11</td>\n",
              "      <td>12</td>\n",
              "      <td>9</td>\n",
              "    </tr>\n",
              "    <tr>\n",
              "      <th>7</th>\n",
              "      <td>107639</td>\n",
              "      <td>Por</td>\n",
              "      <td>MS</td>\n",
              "      <td>F</td>\n",
              "      <td>15</td>\n",
              "      <td>R</td>\n",
              "      <td>GT3</td>\n",
              "      <td>T</td>\n",
              "      <td>4</td>\n",
              "      <td>4</td>\n",
              "      <td>teacher</td>\n",
              "      <td>other</td>\n",
              "      <td>course</td>\n",
              "      <td>mother</td>\n",
              "      <td>2</td>\n",
              "      <td>1</td>\n",
              "      <td>0</td>\n",
              "      <td>no</td>\n",
              "      <td>no</td>\n",
              "      <td>no</td>\n",
              "      <td>no</td>\n",
              "      <td>yes</td>\n",
              "      <td>yes</td>\n",
              "      <td>yes</td>\n",
              "      <td>yes</td>\n",
              "      <td>1.0</td>\n",
              "      <td>5</td>\n",
              "      <td>1</td>\n",
              "      <td>3.0</td>\n",
              "      <td>5.0</td>\n",
              "      <td>5</td>\n",
              "      <td>0</td>\n",
              "      <td>NaN</td>\n",
              "      <td>13</td>\n",
              "      <td>14</td>\n",
              "      <td>14</td>\n",
              "    </tr>\n",
              "    <tr>\n",
              "      <th>8</th>\n",
              "      <td>107914</td>\n",
              "      <td>Math</td>\n",
              "      <td>GP</td>\n",
              "      <td>F</td>\n",
              "      <td>15</td>\n",
              "      <td>U</td>\n",
              "      <td>LE3</td>\n",
              "      <td>T</td>\n",
              "      <td>3</td>\n",
              "      <td>2</td>\n",
              "      <td>services</td>\n",
              "      <td>other</td>\n",
              "      <td>reputation</td>\n",
              "      <td>mother</td>\n",
              "      <td>1</td>\n",
              "      <td>2</td>\n",
              "      <td>0</td>\n",
              "      <td>no</td>\n",
              "      <td>yes</td>\n",
              "      <td>yes</td>\n",
              "      <td>no</td>\n",
              "      <td>yes</td>\n",
              "      <td>yes</td>\n",
              "      <td>yes</td>\n",
              "      <td>no</td>\n",
              "      <td>4.0</td>\n",
              "      <td>4</td>\n",
              "      <td>4</td>\n",
              "      <td>1.0</td>\n",
              "      <td>1.0</td>\n",
              "      <td>5</td>\n",
              "      <td>10</td>\n",
              "      <td>no</td>\n",
              "      <td>7</td>\n",
              "      <td>6</td>\n",
              "      <td>6</td>\n",
              "    </tr>\n",
              "    <tr>\n",
              "      <th>9</th>\n",
              "      <td>108089</td>\n",
              "      <td>Por</td>\n",
              "      <td>MS</td>\n",
              "      <td>M</td>\n",
              "      <td>16</td>\n",
              "      <td>R</td>\n",
              "      <td>GT3</td>\n",
              "      <td>T</td>\n",
              "      <td>3</td>\n",
              "      <td>4</td>\n",
              "      <td>other</td>\n",
              "      <td>health</td>\n",
              "      <td>other</td>\n",
              "      <td>mother</td>\n",
              "      <td>3</td>\n",
              "      <td>2</td>\n",
              "      <td>0</td>\n",
              "      <td>no</td>\n",
              "      <td>no</td>\n",
              "      <td>no</td>\n",
              "      <td>no</td>\n",
              "      <td>no</td>\n",
              "      <td>yes</td>\n",
              "      <td>no</td>\n",
              "      <td>no</td>\n",
              "      <td>3.0</td>\n",
              "      <td>4</td>\n",
              "      <td>5</td>\n",
              "      <td>1.0</td>\n",
              "      <td>2.0</td>\n",
              "      <td>5</td>\n",
              "      <td>4</td>\n",
              "      <td>NaN</td>\n",
              "      <td>9</td>\n",
              "      <td>10</td>\n",
              "      <td>11</td>\n",
              "    </tr>\n",
              "    <tr>\n",
              "      <th>10</th>\n",
              "      <td>108254</td>\n",
              "      <td>Por</td>\n",
              "      <td>GP</td>\n",
              "      <td>M</td>\n",
              "      <td>15</td>\n",
              "      <td>U</td>\n",
              "      <td>LE3</td>\n",
              "      <td>T</td>\n",
              "      <td>4</td>\n",
              "      <td>4</td>\n",
              "      <td>health</td>\n",
              "      <td>services</td>\n",
              "      <td>course</td>\n",
              "      <td>father</td>\n",
              "      <td>1</td>\n",
              "      <td>1</td>\n",
              "      <td>0</td>\n",
              "      <td>no</td>\n",
              "      <td>yes</td>\n",
              "      <td>no</td>\n",
              "      <td>yes</td>\n",
              "      <td>yes</td>\n",
              "      <td>yes</td>\n",
              "      <td>yes</td>\n",
              "      <td>no</td>\n",
              "      <td>4.0</td>\n",
              "      <td>3</td>\n",
              "      <td>3</td>\n",
              "      <td>1.0</td>\n",
              "      <td>3.0</td>\n",
              "      <td>5</td>\n",
              "      <td>0</td>\n",
              "      <td>NaN</td>\n",
              "      <td>12</td>\n",
              "      <td>13</td>\n",
              "      <td>12</td>\n",
              "    </tr>\n",
              "    <tr>\n",
              "      <th>11</th>\n",
              "      <td>108296</td>\n",
              "      <td>Por</td>\n",
              "      <td>GP</td>\n",
              "      <td>M</td>\n",
              "      <td>18</td>\n",
              "      <td>U</td>\n",
              "      <td>LE3</td>\n",
              "      <td>T</td>\n",
              "      <td>3</td>\n",
              "      <td>4</td>\n",
              "      <td>services</td>\n",
              "      <td>other</td>\n",
              "      <td>home</td>\n",
              "      <td>mother</td>\n",
              "      <td>1</td>\n",
              "      <td>2</td>\n",
              "      <td>0</td>\n",
              "      <td>no</td>\n",
              "      <td>no</td>\n",
              "      <td>no</td>\n",
              "      <td>yes</td>\n",
              "      <td>yes</td>\n",
              "      <td>yes</td>\n",
              "      <td>yes</td>\n",
              "      <td>yes</td>\n",
              "      <td>4.0</td>\n",
              "      <td>3</td>\n",
              "      <td>3</td>\n",
              "      <td>1.0</td>\n",
              "      <td>3.0</td>\n",
              "      <td>5</td>\n",
              "      <td>6</td>\n",
              "      <td>no</td>\n",
              "      <td>16</td>\n",
              "      <td>16</td>\n",
              "      <td>17</td>\n",
              "    </tr>\n",
              "    <tr>\n",
              "      <th>12</th>\n",
              "      <td>108753</td>\n",
              "      <td>Math</td>\n",
              "      <td>MS</td>\n",
              "      <td>F</td>\n",
              "      <td>18</td>\n",
              "      <td>R</td>\n",
              "      <td>GT3</td>\n",
              "      <td>T</td>\n",
              "      <td>4</td>\n",
              "      <td>4</td>\n",
              "      <td>teacher</td>\n",
              "      <td>at-home</td>\n",
              "      <td>reputation</td>\n",
              "      <td>mother</td>\n",
              "      <td>3</td>\n",
              "      <td>1</td>\n",
              "      <td>0</td>\n",
              "      <td>no</td>\n",
              "      <td>yes</td>\n",
              "      <td>yes</td>\n",
              "      <td>yes</td>\n",
              "      <td>yes</td>\n",
              "      <td>yes</td>\n",
              "      <td>yes</td>\n",
              "      <td>yes</td>\n",
              "      <td>4.0</td>\n",
              "      <td>4</td>\n",
              "      <td>3</td>\n",
              "      <td>2.0</td>\n",
              "      <td>2.0</td>\n",
              "      <td>5</td>\n",
              "      <td>7</td>\n",
              "      <td>NaN</td>\n",
              "      <td>6</td>\n",
              "      <td>5</td>\n",
              "      <td>6</td>\n",
              "    </tr>\n",
              "    <tr>\n",
              "      <th>13</th>\n",
              "      <td>108825</td>\n",
              "      <td>Por</td>\n",
              "      <td>GP</td>\n",
              "      <td>M</td>\n",
              "      <td>15</td>\n",
              "      <td>U</td>\n",
              "      <td>GT3</td>\n",
              "      <td>T</td>\n",
              "      <td>4</td>\n",
              "      <td>3</td>\n",
              "      <td>teacher</td>\n",
              "      <td>other</td>\n",
              "      <td>home</td>\n",
              "      <td>mother</td>\n",
              "      <td>1</td>\n",
              "      <td>2</td>\n",
              "      <td>0</td>\n",
              "      <td>no</td>\n",
              "      <td>yes</td>\n",
              "      <td>no</td>\n",
              "      <td>yes</td>\n",
              "      <td>yes</td>\n",
              "      <td>yes</td>\n",
              "      <td>yes</td>\n",
              "      <td>no</td>\n",
              "      <td>4.0</td>\n",
              "      <td>3</td>\n",
              "      <td>3</td>\n",
              "      <td>2.0</td>\n",
              "      <td>3.0</td>\n",
              "      <td>5</td>\n",
              "      <td>0</td>\n",
              "      <td>yes</td>\n",
              "      <td>11</td>\n",
              "      <td>11</td>\n",
              "      <td>11</td>\n",
              "    </tr>\n",
              "    <tr>\n",
              "      <th>14</th>\n",
              "      <td>114462</td>\n",
              "      <td>Math</td>\n",
              "      <td>GP</td>\n",
              "      <td>F</td>\n",
              "      <td>16</td>\n",
              "      <td>U</td>\n",
              "      <td>LE3</td>\n",
              "      <td>T</td>\n",
              "      <td>2</td>\n",
              "      <td>2</td>\n",
              "      <td>at_home</td>\n",
              "      <td>other</td>\n",
              "      <td>course</td>\n",
              "      <td>mother</td>\n",
              "      <td>1</td>\n",
              "      <td>2</td>\n",
              "      <td>0</td>\n",
              "      <td>no</td>\n",
              "      <td>yes</td>\n",
              "      <td>no</td>\n",
              "      <td>no</td>\n",
              "      <td>yes</td>\n",
              "      <td>yes</td>\n",
              "      <td>no</td>\n",
              "      <td>no</td>\n",
              "      <td>4.0</td>\n",
              "      <td>3</td>\n",
              "      <td>4</td>\n",
              "      <td>1.0</td>\n",
              "      <td>2.0</td>\n",
              "      <td>2</td>\n",
              "      <td>4</td>\n",
              "      <td>yes</td>\n",
              "      <td>8</td>\n",
              "      <td>7</td>\n",
              "      <td>6</td>\n",
              "    </tr>\n",
              "  </tbody>\n",
              "</table>\n",
              "</div>"
            ],
            "text/plain": [
              "        ID Subject school sex  age address famsize Pstatus Medu Fedu  \\\n",
              "0   100097     Por     GP   F   16       U     GT3       A    3    4   \n",
              "1   101021     Por     GP   F   17       U     GT3       T    3    2   \n",
              "2   102965     Por     GP   M   16       U     LE3       T    1    2   \n",
              "3   102989     Por     MS   M   17       U     GT3       T    2    3   \n",
              "4   103131     Por     GP   F   16       U     GT3       T    1    1   \n",
              "5   103144     Por     GP   M   18       U     LE3       T    3    1   \n",
              "6   105257     Por     MS   F   18       U     GT3       T    1    1   \n",
              "7   107639     Por     MS   F   15       R     GT3       T    4    4   \n",
              "8   107914    Math     GP   F   15       U     LE3       T    3    2   \n",
              "9   108089     Por     MS   M   16       R     GT3       T    3    4   \n",
              "10  108254     Por     GP   M   15       U     LE3       T    4    4   \n",
              "11  108296     Por     GP   M   18       U     LE3       T    3    4   \n",
              "12  108753    Math     MS   F   18       R     GT3       T    4    4   \n",
              "13  108825     Por     GP   M   15       U     GT3       T    4    3   \n",
              "14  114462    Math     GP   F   16       U     LE3       T    2    2   \n",
              "\n",
              "        Mjob      Fjob      reason guardian  traveltime  studytime  failures  \\\n",
              "0   services     other      course   father           1          1         0   \n",
              "1      other     other      course   mother           1          2         0   \n",
              "2     health  services      course   mother           2          1         2   \n",
              "3      other  services        home   father           2          2         0   \n",
              "4    at_home     other        home   mother           2          1         0   \n",
              "5   services  services      course   mother           2          1         0   \n",
              "6      other     other      course   mother           2          2         0   \n",
              "7    teacher     other      course   mother           2          1         0   \n",
              "8   services     other  reputation   mother           1          2         0   \n",
              "9      other    health       other   mother           3          2         0   \n",
              "10    health  services      course   father           1          1         0   \n",
              "11  services     other        home   mother           1          2         0   \n",
              "12   teacher   at-home  reputation   mother           3          1         0   \n",
              "13   teacher     other        home   mother           1          2         0   \n",
              "14   at_home     other      course   mother           1          2         0   \n",
              "\n",
              "   schoolsup famsup paid activities nursery higher internet romantic  famrel  \\\n",
              "0         no     no   no         no     yes    yes      yes       no     3.0   \n",
              "1         no     no   no        yes      no    yes      yes       no     5.0   \n",
              "2         no     no   no         no      no    yes      yes       no     4.0   \n",
              "3         no     no   no        yes     yes    yes      yes       no     4.0   \n",
              "4         no    yes   no         no     yes    yes       no      NaN     4.0   \n",
              "5         no     no   no        yes     yes    yes      yes      yes     3.0   \n",
              "6         no     no   no        yes     yes    yes       no       no     1.0   \n",
              "7         no     no   no         no     yes    yes      yes      yes     1.0   \n",
              "8         no    yes  yes         no     yes    yes      yes       no     4.0   \n",
              "9         no     no   no         no      no    yes       no       no     3.0   \n",
              "10        no    yes   no        yes     yes    yes      yes       no     4.0   \n",
              "11        no     no   no        yes     yes    yes      yes      yes     4.0   \n",
              "12        no    yes  yes        yes     yes    yes      yes      yes     4.0   \n",
              "13        no    yes   no        yes     yes    yes      yes       no     4.0   \n",
              "14        no    yes   no         no     yes    yes       no       no     4.0   \n",
              "\n",
              "    freetime  goout  Dalc  Walc  health  absences cheating  G1  G2  G3  \n",
              "0          2      1   1.0   4.0       5        12      NaN  15  13  14  \n",
              "1          3      4   1.0   3.0       3         2      NaN  17  18  17  \n",
              "2          4      5   3.0   5.0       5         0      yes   9   8  10  \n",
              "3          4      3   1.0   1.0       3         4       no  14  15  16  \n",
              "4          3      2   1.0   4.0       5         2      yes  12  13  13  \n",
              "5          3      4   4.0   5.0       4         2      NaN  11  11  12  \n",
              "6          1      1   1.0   1.0       5         6      NaN  11  12   9  \n",
              "7          5      1   3.0   5.0       5         0      NaN  13  14  14  \n",
              "8          4      4   1.0   1.0       5        10       no   7   6   6  \n",
              "9          4      5   1.0   2.0       5         4      NaN   9  10  11  \n",
              "10         3      3   1.0   3.0       5         0      NaN  12  13  12  \n",
              "11         3      3   1.0   3.0       5         6       no  16  16  17  \n",
              "12         4      3   2.0   2.0       5         7      NaN   6   5   6  \n",
              "13         3      3   2.0   3.0       5         0      yes  11  11  11  \n",
              "14         3      4   1.0   2.0       2         4      yes   8   7   6  "
            ]
          },
          "metadata": {
            "tags": []
          },
          "execution_count": 711
        }
      ]
    },
    {
      "cell_type": "markdown",
      "metadata": {
        "id": "OeQJ3fAZqhlg"
      },
      "source": [
        "### Признаки"
      ]
    },
    {
      "cell_type": "markdown",
      "metadata": {
        "id": "iKifGCNUqhlg"
      },
      "source": [
        "Данные представлены признаками различных типов: числовыми, категориальными, упорядоченными категориальными."
      ]
    },
    {
      "cell_type": "markdown",
      "metadata": {
        "id": "ZikyuAPwqhlg"
      },
      "source": [
        "**Описание признаков:**"
      ]
    },
    {
      "cell_type": "code",
      "metadata": {
        "colab": {
          "base_uri": "https://localhost:8080/",
          "height": 1000
        },
        "id": "wvhg2F4pqhlh",
        "outputId": "ad6b78fb-62cd-43de-dc76-8a867a087934"
      },
      "source": [
        "pd.read_csv('/content/drive/MyDrive/IAD/Lab_1/students_data_features.csv',\n",
        "            delimiter=';',\n",
        "            encoding='windows-1251')"
      ],
      "execution_count": 712,
      "outputs": [
        {
          "output_type": "execute_result",
          "data": {
            "text/html": [
              "<div>\n",
              "<style scoped>\n",
              "    .dataframe tbody tr th:only-of-type {\n",
              "        vertical-align: middle;\n",
              "    }\n",
              "\n",
              "    .dataframe tbody tr th {\n",
              "        vertical-align: top;\n",
              "    }\n",
              "\n",
              "    .dataframe thead th {\n",
              "        text-align: right;\n",
              "    }\n",
              "</style>\n",
              "<table border=\"1\" class=\"dataframe\">\n",
              "  <thead>\n",
              "    <tr style=\"text-align: right;\">\n",
              "      <th></th>\n",
              "      <th>Признак</th>\n",
              "      <th>Описание</th>\n",
              "    </tr>\n",
              "  </thead>\n",
              "  <tbody>\n",
              "    <tr>\n",
              "      <th>0</th>\n",
              "      <td>ID</td>\n",
              "      <td>Уникальный номер наблюдения</td>\n",
              "    </tr>\n",
              "    <tr>\n",
              "      <th>1</th>\n",
              "      <td>Subject</td>\n",
              "      <td>Предмет: 'Math' - математика, 'Por' - португальский язык</td>\n",
              "    </tr>\n",
              "    <tr>\n",
              "      <th>2</th>\n",
              "      <td>school</td>\n",
              "      <td>Школа: 'GP' - Gabriel Pereira, 'MS' - Mousinho da Silveira</td>\n",
              "    </tr>\n",
              "    <tr>\n",
              "      <th>3</th>\n",
              "      <td>sex</td>\n",
              "      <td>Пол студента: 'F' - женский, 'M' - мужской</td>\n",
              "    </tr>\n",
              "    <tr>\n",
              "      <th>4</th>\n",
              "      <td>age</td>\n",
              "      <td>Возраст студента</td>\n",
              "    </tr>\n",
              "    <tr>\n",
              "      <th>5</th>\n",
              "      <td>address</td>\n",
              "      <td>Место проживания студента: 'U' - в городе, 'R' - за городом</td>\n",
              "    </tr>\n",
              "    <tr>\n",
              "      <th>6</th>\n",
              "      <td>famsize</td>\n",
              "      <td>Число членов семьи: 'LE3' - если &lt;= 3, 'GT3' - если &gt; 3</td>\n",
              "    </tr>\n",
              "    <tr>\n",
              "      <th>7</th>\n",
              "      <td>Pstatus</td>\n",
              "      <td>Отношения родителей: 'T' - живут вместе, 'A' - живут раздельно</td>\n",
              "    </tr>\n",
              "    <tr>\n",
              "      <th>8</th>\n",
              "      <td>Medu</td>\n",
              "      <td>Образование матери: 0 - без образования, 1 - начальная школа, 2 – от 5 до 9 классов, 3 – среднее образование, 4 – высшее образование</td>\n",
              "    </tr>\n",
              "    <tr>\n",
              "      <th>9</th>\n",
              "      <td>Fedu</td>\n",
              "      <td>Образование отца: 0 - без образования, 1 - начальная школа, 2 – от 5 до 9 классов, 3 – среднее образование, 4 – высшее образование</td>\n",
              "    </tr>\n",
              "    <tr>\n",
              "      <th>10</th>\n",
              "      <td>Mjob</td>\n",
              "      <td>Работа матери: 'teacher' - связана с преподаванием, 'health'  - связана с здравоохранением, 'services' - администрация и полиция, 'at_home' - домашняя занятость, 'other' - другое</td>\n",
              "    </tr>\n",
              "    <tr>\n",
              "      <th>11</th>\n",
              "      <td>Fjob</td>\n",
              "      <td>Работа отца: 'teacher' - связана с преподаванием, 'health'  - связана с здравоохранением, 'services' - администрация и полиция, 'at_home' - домашняя занятость, 'other' - другое</td>\n",
              "    </tr>\n",
              "    <tr>\n",
              "      <th>12</th>\n",
              "      <td>reason</td>\n",
              "      <td>Причина, по которой студент выбрал данную школу: 'home' - рядом с домом, 'reputation' - репутация школы, 'course' - читаемые курсы, 'other' - другое</td>\n",
              "    </tr>\n",
              "    <tr>\n",
              "      <th>13</th>\n",
              "      <td>guardian</td>\n",
              "      <td>Опекун студента (student's guardian): 'mother', 'father' или 'other'</td>\n",
              "    </tr>\n",
              "    <tr>\n",
              "      <th>14</th>\n",
              "      <td>traveltime</td>\n",
              "      <td>Время в пути от дома до школы: 1 - &lt; 15 мин, 2 - от 15 до 30 мин, 3 - от 30 мин до 1 часа, 4 - &gt; 1 часа</td>\n",
              "    </tr>\n",
              "    <tr>\n",
              "      <th>15</th>\n",
              "      <td>studytime</td>\n",
              "      <td>Количество часов на учебу в неделю: 1 - &lt; 2 часов, 2 - от 2 до 5 часов, 3 - от 5 до 10 часов, 4 - &gt; 10 часов</td>\n",
              "    </tr>\n",
              "    <tr>\n",
              "      <th>16</th>\n",
              "      <td>failures</td>\n",
              "      <td>Число завалов студента по предыдущим курсам:  n если 0&lt;=n&lt;3, иначе 3</td>\n",
              "    </tr>\n",
              "    <tr>\n",
              "      <th>17</th>\n",
              "      <td>schoolsup</td>\n",
              "      <td>Дополнительная помощь в учебе: yes или no</td>\n",
              "    </tr>\n",
              "    <tr>\n",
              "      <th>18</th>\n",
              "      <td>famsup</td>\n",
              "      <td>Дополнительная помощь в учебе от членов семьи: yes или no</td>\n",
              "    </tr>\n",
              "    <tr>\n",
              "      <th>19</th>\n",
              "      <td>paid</td>\n",
              "      <td>Платные дополнительные занятия по соответствущему курсу ('Math' или 'Por'): yes или no</td>\n",
              "    </tr>\n",
              "    <tr>\n",
              "      <th>20</th>\n",
              "      <td>activities</td>\n",
              "      <td>Внеучебные активности: yes или no</td>\n",
              "    </tr>\n",
              "    <tr>\n",
              "      <th>21</th>\n",
              "      <td>nursery</td>\n",
              "      <td>Ходил в детстве в детский сад: yes или no</td>\n",
              "    </tr>\n",
              "    <tr>\n",
              "      <th>22</th>\n",
              "      <td>higher</td>\n",
              "      <td>Собирается получать высшее образование: yes или no</td>\n",
              "    </tr>\n",
              "    <tr>\n",
              "      <th>23</th>\n",
              "      <td>internet</td>\n",
              "      <td>Есть доступ к всемирной сети из дома: yes или no</td>\n",
              "    </tr>\n",
              "    <tr>\n",
              "      <th>24</th>\n",
              "      <td>romantic</td>\n",
              "      <td>Состоит в романтических отношениях: yes или no</td>\n",
              "    </tr>\n",
              "    <tr>\n",
              "      <th>25</th>\n",
              "      <td>famrel</td>\n",
              "      <td>Отношения в семье: от 1 - очень плохие, до 5 - прекрасные</td>\n",
              "    </tr>\n",
              "    <tr>\n",
              "      <th>26</th>\n",
              "      <td>freetime</td>\n",
              "      <td>Свободное время после занятий: от 1 - очень мало, до 5 - очень много</td>\n",
              "    </tr>\n",
              "    <tr>\n",
              "      <th>27</th>\n",
              "      <td>goout</td>\n",
              "      <td>Проводит время с друзьями: от 1 - очень редко/мало, до 5 - очень часто/много</td>\n",
              "    </tr>\n",
              "    <tr>\n",
              "      <th>28</th>\n",
              "      <td>Dalc</td>\n",
              "      <td>Потребление алкоголя в будни: от 1 - очень мало, до 5 - очень много</td>\n",
              "    </tr>\n",
              "    <tr>\n",
              "      <th>29</th>\n",
              "      <td>Walc</td>\n",
              "      <td>Потребление алкоголя в выходные: от 1 - очень мало, до 5 - очень много</td>\n",
              "    </tr>\n",
              "    <tr>\n",
              "      <th>30</th>\n",
              "      <td>health</td>\n",
              "      <td>Состояние здоровья: от 1 - очень плохое, до 5  - очень хорошее</td>\n",
              "    </tr>\n",
              "    <tr>\n",
              "      <th>31</th>\n",
              "      <td>absences</td>\n",
              "      <td>Число пропусков: сколько раз пропустил занятия в школе</td>\n",
              "    </tr>\n",
              "    <tr>\n",
              "      <th>32</th>\n",
              "      <td>cheating</td>\n",
              "      <td>Списывает ли на тестах: yes или no</td>\n",
              "    </tr>\n",
              "    <tr>\n",
              "      <th>33</th>\n",
              "      <td>G1</td>\n",
              "      <td>Оценка за первое полугодние: от 0 до 20</td>\n",
              "    </tr>\n",
              "    <tr>\n",
              "      <th>34</th>\n",
              "      <td>G2</td>\n",
              "      <td>Оценка за второе полугодие: от 0 до 20</td>\n",
              "    </tr>\n",
              "    <tr>\n",
              "      <th>35</th>\n",
              "      <td>G3</td>\n",
              "      <td>Итоговая оценка: от 0 до 20</td>\n",
              "    </tr>\n",
              "  </tbody>\n",
              "</table>\n",
              "</div>"
            ],
            "text/plain": [
              "       Признак  \\\n",
              "0           ID   \n",
              "1      Subject   \n",
              "2       school   \n",
              "3          sex   \n",
              "4          age   \n",
              "5      address   \n",
              "6      famsize   \n",
              "7      Pstatus   \n",
              "8         Medu   \n",
              "9         Fedu   \n",
              "10        Mjob   \n",
              "11        Fjob   \n",
              "12      reason   \n",
              "13    guardian   \n",
              "14  traveltime   \n",
              "15   studytime   \n",
              "16    failures   \n",
              "17   schoolsup   \n",
              "18      famsup   \n",
              "19        paid   \n",
              "20  activities   \n",
              "21     nursery   \n",
              "22      higher   \n",
              "23    internet   \n",
              "24    romantic   \n",
              "25      famrel   \n",
              "26    freetime   \n",
              "27       goout   \n",
              "28        Dalc   \n",
              "29        Walc   \n",
              "30      health   \n",
              "31    absences   \n",
              "32    cheating   \n",
              "33          G1   \n",
              "34          G2   \n",
              "35          G3   \n",
              "\n",
              "                                                                                                                                                                              Описание  \n",
              "0                                                                                                                                                          Уникальный номер наблюдения  \n",
              "1                                                                                                                             Предмет: 'Math' - математика, 'Por' - португальский язык  \n",
              "2                                                                                                                           Школа: 'GP' - Gabriel Pereira, 'MS' - Mousinho da Silveira  \n",
              "3                                                                                                                                           Пол студента: 'F' - женский, 'M' - мужской  \n",
              "4                                                                                                                                                                     Возраст студента  \n",
              "5                                                                                                                          Место проживания студента: 'U' - в городе, 'R' - за городом  \n",
              "6                                                                                                                              Число членов семьи: 'LE3' - если <= 3, 'GT3' - если > 3  \n",
              "7                                                                                                                       Отношения родителей: 'T' - живут вместе, 'A' - живут раздельно  \n",
              "8                                                 Образование матери: 0 - без образования, 1 - начальная школа, 2 – от 5 до 9 классов, 3 – среднее образование, 4 – высшее образование  \n",
              "9                                                   Образование отца: 0 - без образования, 1 - начальная школа, 2 – от 5 до 9 классов, 3 – среднее образование, 4 – высшее образование  \n",
              "10  Работа матери: 'teacher' - связана с преподаванием, 'health'  - связана с здравоохранением, 'services' - администрация и полиция, 'at_home' - домашняя занятость, 'other' - другое  \n",
              "11    Работа отца: 'teacher' - связана с преподаванием, 'health'  - связана с здравоохранением, 'services' - администрация и полиция, 'at_home' - домашняя занятость, 'other' - другое  \n",
              "12                                Причина, по которой студент выбрал данную школу: 'home' - рядом с домом, 'reputation' - репутация школы, 'course' - читаемые курсы, 'other' - другое  \n",
              "13                                                                                                                Опекун студента (student's guardian): 'mother', 'father' или 'other'  \n",
              "14                                                                             Время в пути от дома до школы: 1 - < 15 мин, 2 - от 15 до 30 мин, 3 - от 30 мин до 1 часа, 4 - > 1 часа  \n",
              "15                                                                        Количество часов на учебу в неделю: 1 - < 2 часов, 2 - от 2 до 5 часов, 3 - от 5 до 10 часов, 4 - > 10 часов  \n",
              "16                                                                                                                Число завалов студента по предыдущим курсам:  n если 0<=n<3, иначе 3  \n",
              "17                                                                                                                                           Дополнительная помощь в учебе: yes или no  \n",
              "18                                                                                                                           Дополнительная помощь в учебе от членов семьи: yes или no  \n",
              "19                                                                                              Платные дополнительные занятия по соответствущему курсу ('Math' или 'Por'): yes или no  \n",
              "20                                                                                                                                                   Внеучебные активности: yes или no  \n",
              "21                                                                                                                                           Ходил в детстве в детский сад: yes или no  \n",
              "22                                                                                                                                  Собирается получать высшее образование: yes или no  \n",
              "23                                                                                                                                    Есть доступ к всемирной сети из дома: yes или no  \n",
              "24                                                                                                                                      Состоит в романтических отношениях: yes или no  \n",
              "25                                                                                                                           Отношения в семье: от 1 - очень плохие, до 5 - прекрасные  \n",
              "26                                                                                                                Свободное время после занятий: от 1 - очень мало, до 5 - очень много  \n",
              "27                                                                                                        Проводит время с друзьями: от 1 - очень редко/мало, до 5 - очень часто/много  \n",
              "28                                                                                                                 Потребление алкоголя в будни: от 1 - очень мало, до 5 - очень много  \n",
              "29                                                                                                              Потребление алкоголя в выходные: от 1 - очень мало, до 5 - очень много  \n",
              "30                                                                                                                      Состояние здоровья: от 1 - очень плохое, до 5  - очень хорошее  \n",
              "31                                                                                                                              Число пропусков: сколько раз пропустил занятия в школе  \n",
              "32                                                                                                                                                  Списывает ли на тестах: yes или no  \n",
              "33                                                                                                                                             Оценка за первое полугодние: от 0 до 20  \n",
              "34                                                                                                                                              Оценка за второе полугодие: от 0 до 20  \n",
              "35                                                                                                                                                         Итоговая оценка: от 0 до 20  "
            ]
          },
          "metadata": {
            "tags": []
          },
          "execution_count": 712
        }
      ]
    },
    {
      "cell_type": "markdown",
      "metadata": {
        "id": "_EwDMtVsqhlh"
      },
      "source": [
        "<br>  \n",
        "\n",
        "## Задания"
      ]
    },
    {
      "cell_type": "markdown",
      "metadata": {
        "id": "tMPQ7vaYqhlh"
      },
      "source": [
        "**NB:** Обратите внимание, что часть студентов посещают оба курса и представлены в данных два раза. Из-за этого некоторые результаты анализа могут быть искажены. Имеет смысл выявить таких студентов заранее ([Задание 11](#task11)) и учитывать эту информацию при анализе."
      ]
    },
    {
      "cell_type": "markdown",
      "metadata": {
        "id": "rsG13PWSqhli"
      },
      "source": [
        "### Задание 1  \n",
        "  \n",
        " * Для каждого признака определите, к какому типу он относится.   \n",
        " * Проверьте значения признаков на наличие опечаток и ошибок, исправьте их.<br>\n",
        "   __Note:__ Исправлять ошибки нужно программно, модифицировать руками исходный файл нельзя.\n",
        " * При необходимости, приведите признак к определенному вами типу."
      ]
    },
    {
      "cell_type": "code",
      "metadata": {
        "colab": {
          "base_uri": "https://localhost:8080/"
        },
        "id": "R3paPM9Yqhli",
        "outputId": "28e85bb2-d344-41ca-ba40-0c1535850437"
      },
      "source": [
        "# Исходные типы признаков\n",
        "data.dtypes"
      ],
      "execution_count": 713,
      "outputs": [
        {
          "output_type": "execute_result",
          "data": {
            "text/plain": [
              "ID              int64\n",
              "Subject        object\n",
              "school         object\n",
              "sex            object\n",
              "age             int64\n",
              "address        object\n",
              "famsize        object\n",
              "Pstatus        object\n",
              "Medu           object\n",
              "Fedu           object\n",
              "Mjob           object\n",
              "Fjob           object\n",
              "reason         object\n",
              "guardian       object\n",
              "traveltime      int64\n",
              "studytime       int64\n",
              "failures        int64\n",
              "schoolsup      object\n",
              "famsup         object\n",
              "paid           object\n",
              "activities     object\n",
              "nursery        object\n",
              "higher         object\n",
              "internet       object\n",
              "romantic       object\n",
              "famrel        float64\n",
              "freetime        int64\n",
              "goout           int64\n",
              "Dalc          float64\n",
              "Walc          float64\n",
              "health          int64\n",
              "absences        int64\n",
              "cheating       object\n",
              "G1              int64\n",
              "G2              int64\n",
              "G3              int64\n",
              "dtype: object"
            ]
          },
          "metadata": {
            "tags": []
          },
          "execution_count": 713
        }
      ]
    },
    {
      "cell_type": "code",
      "metadata": {
        "id": "bmAwyvhv07yU",
        "colab": {
          "base_uri": "https://localhost:8080/"
        },
        "outputId": "7e5627a4-b5ed-40a9-a1b5-ec429ccbf163"
      },
      "source": [
        "for i in data.columns:\n",
        "  print(f\"Column '{i}' values: {data.loc[:, i].unique()}\")"
      ],
      "execution_count": 714,
      "outputs": [
        {
          "output_type": "stream",
          "text": [
            "Column 'ID' values: [100097 101021 102965 ... 998425 999143 999194]\n",
            "Column 'Subject' values: ['Por' 'Math']\n",
            "Column 'school' values: ['GP' 'MS']\n",
            "Column 'sex' values: ['F' 'M' 'm']\n",
            "Column 'age' values: [16 17 18 15 19 21 20 22]\n",
            "Column 'address' values: ['U' 'R']\n",
            "Column 'famsize' values: ['GT3' 'LE3']\n",
            "Column 'Pstatus' values: ['A' 'T' 't']\n",
            "Column 'Medu' values: ['3' '1' '2' '4' '0' 'o']\n",
            "Column 'Fedu' values: ['4' '2' '3' '1' 'o' '0']\n",
            "Column 'Mjob' values: ['services' 'other' 'health' 'at_home' 'teacher' 'at-home']\n",
            "Column 'Fjob' values: ['other' 'services' 'health' 'at-home' 'teacher' 'at_home']\n",
            "Column 'reason' values: ['course' 'home' 'reputation' 'other']\n",
            "Column 'guardian' values: ['father' 'mother' 'other' 'futher']\n",
            "Column 'traveltime' values: [1 2 3 4]\n",
            "Column 'studytime' values: [1 2 4 3]\n",
            "Column 'failures' values: [0 2 1 3]\n",
            "Column 'schoolsup' values: ['no' 'yes']\n",
            "Column 'famsup' values: ['no' 'yes']\n",
            "Column 'paid' values: ['no' 'yes']\n",
            "Column 'activities' values: ['no' 'yes']\n",
            "Column 'nursery' values: ['yes' 'no']\n",
            "Column 'higher' values: ['yes' 'no']\n",
            "Column 'internet' values: ['yes' 'no']\n",
            "Column 'romantic' values: ['no' nan 'yes']\n",
            "Column 'famrel' values: [ 3.  5.  4.  1.  2. nan]\n",
            "Column 'freetime' values: [2 3 4 1 5]\n",
            "Column 'goout' values: [1 4 5 3 2]\n",
            "Column 'Dalc' values: [ 1.  3.  4.  2.  5. nan]\n",
            "Column 'Walc' values: [ 4.  3.  5.  1.  2. nan]\n",
            "Column 'health' values: [5 3 4 2 1]\n",
            "Column 'absences' values: [12  2  0  4  6 10  7 20 14 11 24  8 16 21  1 18  5 22  9  3 15 26 25 54\n",
            " 56 40 19 13 38 30 17 28 32 23 75]\n",
            "Column 'cheating' values: [nan 'yes' 'no']\n",
            "Column 'G1' values: [15 17  9 14 12 11 13  7 16  6  8 10 18  0  5  3  4 19]\n",
            "Column 'G2' values: [13 18  8 15 11 12 14  6 10 16  5  7  9 17  0  4 19]\n",
            "Column 'G3' values: [14 17 10 16 13 12  9  6 11  8 18 15  0  5  7 19  4  1 20]\n"
          ],
          "name": "stdout"
        }
      ]
    },
    {
      "cell_type": "code",
      "metadata": {
        "id": "7GVoFBAG2BAy"
      },
      "source": [
        "data = data.replace(\n",
        "    {'sex': {'m': 'M'},\n",
        "     'Pstatus': {'t': 'T'},\n",
        "     'Medu': {'o': '0'},\n",
        "     'Fedu': {'o': '0'},\n",
        "     'Mjob': {'at-home': 'at_home'},\n",
        "     'Fjob': {'at-home': 'at_home'},\n",
        "     'guardian': {'futher': 'father'}\n",
        "    }\n",
        ")"
      ],
      "execution_count": 715,
      "outputs": []
    },
    {
      "cell_type": "code",
      "metadata": {
        "id": "6_0g9LBN6tqh"
      },
      "source": [
        "data[['Medu', 'Fedu']] = data[['Medu', 'Fedu']].applymap(int)"
      ],
      "execution_count": 716,
      "outputs": []
    },
    {
      "cell_type": "code",
      "metadata": {
        "id": "I2Dgk0UQ5I0Y",
        "colab": {
          "base_uri": "https://localhost:8080/"
        },
        "outputId": "dbd28b97-496e-4e66-9265-f52e0898f93f"
      },
      "source": [
        "for i in data.columns:\n",
        "  print(f\"Column '{i}' values: {data.loc[:, i].unique()}\")"
      ],
      "execution_count": 717,
      "outputs": [
        {
          "output_type": "stream",
          "text": [
            "Column 'ID' values: [100097 101021 102965 ... 998425 999143 999194]\n",
            "Column 'Subject' values: ['Por' 'Math']\n",
            "Column 'school' values: ['GP' 'MS']\n",
            "Column 'sex' values: ['F' 'M']\n",
            "Column 'age' values: [16 17 18 15 19 21 20 22]\n",
            "Column 'address' values: ['U' 'R']\n",
            "Column 'famsize' values: ['GT3' 'LE3']\n",
            "Column 'Pstatus' values: ['A' 'T']\n",
            "Column 'Medu' values: [3 1 2 4 0]\n",
            "Column 'Fedu' values: [4 2 3 1 0]\n",
            "Column 'Mjob' values: ['services' 'other' 'health' 'at_home' 'teacher']\n",
            "Column 'Fjob' values: ['other' 'services' 'health' 'at_home' 'teacher']\n",
            "Column 'reason' values: ['course' 'home' 'reputation' 'other']\n",
            "Column 'guardian' values: ['father' 'mother' 'other']\n",
            "Column 'traveltime' values: [1 2 3 4]\n",
            "Column 'studytime' values: [1 2 4 3]\n",
            "Column 'failures' values: [0 2 1 3]\n",
            "Column 'schoolsup' values: ['no' 'yes']\n",
            "Column 'famsup' values: ['no' 'yes']\n",
            "Column 'paid' values: ['no' 'yes']\n",
            "Column 'activities' values: ['no' 'yes']\n",
            "Column 'nursery' values: ['yes' 'no']\n",
            "Column 'higher' values: ['yes' 'no']\n",
            "Column 'internet' values: ['yes' 'no']\n",
            "Column 'romantic' values: ['no' nan 'yes']\n",
            "Column 'famrel' values: [ 3.  5.  4.  1.  2. nan]\n",
            "Column 'freetime' values: [2 3 4 1 5]\n",
            "Column 'goout' values: [1 4 5 3 2]\n",
            "Column 'Dalc' values: [ 1.  3.  4.  2.  5. nan]\n",
            "Column 'Walc' values: [ 4.  3.  5.  1.  2. nan]\n",
            "Column 'health' values: [5 3 4 2 1]\n",
            "Column 'absences' values: [12  2  0  4  6 10  7 20 14 11 24  8 16 21  1 18  5 22  9  3 15 26 25 54\n",
            " 56 40 19 13 38 30 17 28 32 23 75]\n",
            "Column 'cheating' values: [nan 'yes' 'no']\n",
            "Column 'G1' values: [15 17  9 14 12 11 13  7 16  6  8 10 18  0  5  3  4 19]\n",
            "Column 'G2' values: [13 18  8 15 11 12 14  6 10 16  5  7  9 17  0  4 19]\n",
            "Column 'G3' values: [14 17 10 16 13 12  9  6 11  8 18 15  0  5  7 19  4  1 20]\n"
          ],
          "name": "stdout"
        }
      ]
    },
    {
      "cell_type": "code",
      "metadata": {
        "id": "w-KbNzEy5QfJ",
        "colab": {
          "base_uri": "https://localhost:8080/"
        },
        "outputId": "a50c260b-c38b-44aa-c1aa-9260265e6b62"
      },
      "source": [
        "cat_vars = ['Subject', 'school', 'sex', 'address', 'famsize',\n",
        "            'Pstatus', 'Medu', 'Fedu', 'Mjob', 'Fjob', 'reason', 'guardian',\n",
        "            'traveltime', 'studytime', 'schoolsup', 'famsup', 'paid',\n",
        "            'activities', 'nursery', 'higher', 'internet', 'romantic',\n",
        "            'famrel', 'freetime', 'goout', 'Dalc', 'Walc', 'health', 'cheating']\n",
        "\n",
        "for i in cat_vars:\n",
        "  data[i] = data[i].astype('category')\n",
        "\n",
        "data['ID'] = data['ID'].astype('object')\n",
        "\n",
        "data.dtypes"
      ],
      "execution_count": 718,
      "outputs": [
        {
          "output_type": "execute_result",
          "data": {
            "text/plain": [
              "ID              object\n",
              "Subject       category\n",
              "school        category\n",
              "sex           category\n",
              "age              int64\n",
              "address       category\n",
              "famsize       category\n",
              "Pstatus       category\n",
              "Medu          category\n",
              "Fedu          category\n",
              "Mjob          category\n",
              "Fjob          category\n",
              "reason        category\n",
              "guardian      category\n",
              "traveltime    category\n",
              "studytime     category\n",
              "failures         int64\n",
              "schoolsup     category\n",
              "famsup        category\n",
              "paid          category\n",
              "activities    category\n",
              "nursery       category\n",
              "higher        category\n",
              "internet      category\n",
              "romantic      category\n",
              "famrel        category\n",
              "freetime      category\n",
              "goout         category\n",
              "Dalc          category\n",
              "Walc          category\n",
              "health        category\n",
              "absences         int64\n",
              "cheating      category\n",
              "G1               int64\n",
              "G2               int64\n",
              "G3               int64\n",
              "dtype: object"
            ]
          },
          "metadata": {
            "tags": []
          },
          "execution_count": 718
        }
      ]
    },
    {
      "cell_type": "markdown",
      "metadata": {
        "id": "-ZkiX8aTqhli"
      },
      "source": [
        "### Задание 2  \n",
        "  \n",
        "Проверьте, присутствуют ли в данных пропущенные значения. Сколько? В каких признаках?  \n",
        "По каждому такому признаку предложите и обоснуйте, что делать с пропущенными значениями."
      ]
    },
    {
      "cell_type": "code",
      "metadata": {
        "id": "opYZZaRRqhlj",
        "colab": {
          "base_uri": "https://localhost:8080/"
        },
        "outputId": "561386c2-c4c0-4dee-e652-f70a6d066874"
      },
      "source": [
        "data.isna().sum()"
      ],
      "execution_count": 719,
      "outputs": [
        {
          "output_type": "execute_result",
          "data": {
            "text/plain": [
              "ID              0\n",
              "Subject         0\n",
              "school          0\n",
              "sex             0\n",
              "age             0\n",
              "address         0\n",
              "famsize         0\n",
              "Pstatus         0\n",
              "Medu            0\n",
              "Fedu            0\n",
              "Mjob            0\n",
              "Fjob            0\n",
              "reason          0\n",
              "guardian        0\n",
              "traveltime      0\n",
              "studytime       0\n",
              "failures        0\n",
              "schoolsup       0\n",
              "famsup          0\n",
              "paid            0\n",
              "activities      0\n",
              "nursery         0\n",
              "higher          0\n",
              "internet        0\n",
              "romantic       10\n",
              "famrel         10\n",
              "freetime        0\n",
              "goout           0\n",
              "Dalc           10\n",
              "Walc           10\n",
              "health          0\n",
              "absences        0\n",
              "cheating      700\n",
              "G1              0\n",
              "G2              0\n",
              "G3              0\n",
              "dtype: int64"
            ]
          },
          "metadata": {
            "tags": []
          },
          "execution_count": 719
        }
      ]
    },
    {
      "cell_type": "markdown",
      "metadata": {
        "id": "-rbUhr29eqJ2"
      },
      "source": [
        "- Значения признаков **romantic**, **famrel**, **Dalc**, **Walc** пропущены в 10 строках\n",
        "- Значения признака **cheating** пропущены в целых 700 строках!"
      ]
    },
    {
      "cell_type": "code",
      "metadata": {
        "id": "NslHK3sSg9LT"
      },
      "source": [
        "data['cheating'] = data['cheating'].fillna('no')"
      ],
      "execution_count": 720,
      "outputs": []
    },
    {
      "cell_type": "markdown",
      "metadata": {
        "id": "LGGSR5-ziZRk"
      },
      "source": [
        "- В исходных данных у многих наблюдений признак **cheating** не указан, поэтому человек не может быть обвинён в списывании, если он не был пойман на этом.\n",
        "- Презумпция невиновности в действии! \n",
        "- Удалять этот признак не рекомендуется, потому что он является потенциально важным, хотя пропущен в большом количестве строк. Его удаление может позже вызвать искажение результатов анализа."
      ]
    },
    {
      "cell_type": "code",
      "metadata": {
        "id": "gJ0VvuQfj8Gr"
      },
      "source": [
        "data['romantic'] = data['romantic'].fillna('no')"
      ],
      "execution_count": 721,
      "outputs": []
    },
    {
      "cell_type": "markdown",
      "metadata": {
        "id": "aPLopkXllTYL"
      },
      "source": [
        "- Ситуация похожа на ситуацию со списыванием, только пропущенных значений в этот раз гораздо меньше. \n",
        "- Но пропущенные значения всё равно можно заменить на **no**. Если информации об этом нет, значит человек либо специально это скрывает, либо он просто не состоит в отношениях, а поле пропущено по какой-то иной причине (могли просто забыть)."
      ]
    },
    {
      "cell_type": "code",
      "metadata": {
        "id": "g-SbcNHVLIdp"
      },
      "source": [
        "imp = SimpleImputer(strategy=\"most_frequent\")\n",
        "data.iloc[:, :] = imp.fit_transform(data)"
      ],
      "execution_count": 722,
      "outputs": []
    },
    {
      "cell_type": "markdown",
      "metadata": {
        "id": "9df0ynMtLulQ"
      },
      "source": [
        "- Признаки **famrel**, **Dalc** и **Walc** также являются категориальными, но с более существенной градацией между категориями.\n",
        "- Вместо того, чтобы удалять строки, мы заполняем эти значения во всего 10 строках вычисленной для каждого признака модой.\n",
        "- Это можно было бы сделать через KNN, но тогда пришлось бы уже на данном этапе перекодировать весь датасет в числовой вид, а нам ещё нужны эти кагории для последющего анализа (как минимум, для удобства)\n",
        "- Мы заполняем значениями именной модой, потому что заполнять константой именно такие значения, зная их описание, достаточно странная идея.\n",
        "- Среднее значение для них было бы крайне странно считать, ибо это, опять же, категориальные переменные."
      ]
    },
    {
      "cell_type": "code",
      "metadata": {
        "id": "VY79RRl-NFil",
        "colab": {
          "base_uri": "https://localhost:8080/"
        },
        "outputId": "535bd703-6e15-4c3e-bdfa-741bf2c07379"
      },
      "source": [
        "data.isna().sum()"
      ],
      "execution_count": 723,
      "outputs": [
        {
          "output_type": "execute_result",
          "data": {
            "text/plain": [
              "ID            0\n",
              "Subject       0\n",
              "school        0\n",
              "sex           0\n",
              "age           0\n",
              "address       0\n",
              "famsize       0\n",
              "Pstatus       0\n",
              "Medu          0\n",
              "Fedu          0\n",
              "Mjob          0\n",
              "Fjob          0\n",
              "reason        0\n",
              "guardian      0\n",
              "traveltime    0\n",
              "studytime     0\n",
              "failures      0\n",
              "schoolsup     0\n",
              "famsup        0\n",
              "paid          0\n",
              "activities    0\n",
              "nursery       0\n",
              "higher        0\n",
              "internet      0\n",
              "romantic      0\n",
              "famrel        0\n",
              "freetime      0\n",
              "goout         0\n",
              "Dalc          0\n",
              "Walc          0\n",
              "health        0\n",
              "absences      0\n",
              "cheating      0\n",
              "G1            0\n",
              "G2            0\n",
              "G3            0\n",
              "dtype: int64"
            ]
          },
          "metadata": {
            "tags": []
          },
          "execution_count": 723
        }
      ]
    },
    {
      "cell_type": "code",
      "metadata": {
        "id": "g2KwnE7upsqD"
      },
      "source": [
        "# Приведём famrel из float в int\n",
        "data.loc[:, ['famrel', 'Dalc', 'Walc']] = data.loc[:, ['famrel', 'Dalc', 'Walc']].astype(int)"
      ],
      "execution_count": 724,
      "outputs": []
    },
    {
      "cell_type": "markdown",
      "metadata": {
        "id": "0XHNVImoNIeo"
      },
      "source": [
        "- Всё! Мы смогли обработать пропущенные значения.\n",
        "- Пора перекодировать датафрейм в числа для дальнейшей работы"
      ]
    },
    {
      "cell_type": "markdown",
      "metadata": {
        "id": "KAh2XFcsqhlj"
      },
      "source": [
        "### Задание 3  \n",
        "  \n",
        "Проанализируйте данные на наличие выбросов.   \n",
        "Сколько наблюдений можно отнести к выбросам по каждому признаку? Сколько всего выбросов в данных?  \n",
        "  \n",
        "**Note:** Выбросы можно не удалять из данных. Это информацию можно учитывать в дальнейшем анализе и удалять выбросы при необходимости. "
      ]
    },
    {
      "cell_type": "code",
      "metadata": {
        "colab": {
          "base_uri": "https://localhost:8080/",
          "height": 608
        },
        "id": "RKhha2j_qhlj",
        "outputId": "ac6f117a-62d2-4b81-88ea-54208d5fdbb2"
      },
      "source": [
        "plt.figure(figsize=(15, 10))\n",
        "sns.boxplot(data=data.drop(columns=['ID']), orient='h')"
      ],
      "execution_count": 725,
      "outputs": [
        {
          "output_type": "execute_result",
          "data": {
            "text/plain": [
              "<matplotlib.axes._subplots.AxesSubplot at 0x7fb40d50cc10>"
            ]
          },
          "metadata": {
            "tags": []
          },
          "execution_count": 725
        },
        {
          "output_type": "display_data",
          "data": {
            "image/png": "[encoded data removed]",
            "text/plain": [
              "<Figure size 1080x720 with 1 Axes>"
            ]
          },
          "metadata": {
            "tags": [],
            "needs_background": "light"
          }
        }
      ]
    },
    {
      "cell_type": "markdown",
      "metadata": {
        "id": "9RFFKdc5O3Gg"
      },
      "source": [
        "- Категориальные переменные нам рассматривать нет смысла, потому что там вполне ограниченный и логичный круг значений и о выбросах речи не идёт\n",
        "- Будем рассматривать выбросы числовых значений\n",
        "- Хотя одно из значений возраста на коробке с усами является выбросом, оно вполне возможно в реальной жизни\n",
        "- Хотя много значений в absences выходят за рамки ящика с усами, значения, чуть выходящие за рамки (примерно до 27), распределены достаточно плотно, так что вполне могут быть не выбросами, но стоит посмотреть на эти сэмплы глазами и оценить\n",
        "- Выбросы в G1, G2, G3 выражаются слишком маленькими значениями, но всё же стоит посмотреть своими глазами на эти сэмплы перед их удалением\n",
        "- Кроме того, G3 это итоговая оценка за два семестра, поэтому было бы вполне логично, если бы её значение было бы в районе среднего G1 и G2 у наблюдения\n",
        "- В одном из сэмплов G1 и G2 равны 10, а G3 равно 1, вот это пример того, что очень вряд ли является нормальным наблюдением\n",
        "- Для удобства можем попробовать считать арифметическое среднее и можно сделать поправку +-3 балла от среднего, ибо оно всё-таки не совсем среднее. Это может быть какой-то экзамен или что-то подобное\n",
        "- Но если у человека всё ок было весь год, то почему он должен был завалить экзамен?\n",
        "- Но сразу удалять всё, выходящее за рамки боксплота, не лучшее решение, ибо количество пропусков вполне может коррелировать с оценкой, логично ведь?"
      ]
    },
    {
      "cell_type": "code",
      "metadata": {
        "colab": {
          "base_uri": "https://localhost:8080/"
        },
        "id": "luHBm9rTYw56",
        "outputId": "1e540849-c4e5-4cf5-8d19-98691535a7d3"
      },
      "source": [
        "# Мы рассматриваем числовые признаки absences, G1, G2 и G3\n",
        "z = np.abs(stats.zscore(data.loc[:, ['absences', 'G1', 'G2', 'G3']]))\n",
        "print(z)"
      ],
      "execution_count": 726,
      "outputs": [
        {
          "output_type": "stream",
          "text": [
            "[[1.21879866 1.26976633 0.53413517 0.68808807]\n",
            " [0.39227478 1.94046507 2.05690172 1.46469775]\n",
            " [0.71448946 0.74232988 0.98863139 0.34739149]\n",
            " ...\n",
            " [0.71448946 1.6051157  1.75234841 1.72356764]\n",
            " [0.07006009 0.74232988 0.68407808 0.0885216 ]\n",
            " [1.54101334 0.26371823 0.07497146 0.0885216 ]]\n"
          ],
          "name": "stdout"
        }
      ]
    },
    {
      "cell_type": "code",
      "metadata": {
        "colab": {
          "base_uri": "https://localhost:8080/"
        },
        "id": "shFK6odRxxO9",
        "outputId": "50ef10e4-374b-4ff7-d69b-ddb822459168"
      },
      "source": [
        "# Задаём threshold для z-score\n",
        "outliers = np.where(z > 3)\n",
        "outliers"
      ],
      "execution_count": 727,
      "outputs": [
        {
          "output_type": "execute_result",
          "data": {
            "text/plain": [
              "(array([  27,   61,   83,  219,  226,  229,  233,  234,  292,  336,  350,\n",
              "         353,  358,  367,  385,  391,  410,  438,  474,  497,  589,  592,\n",
              "         594,  684,  710,  745,  756,  786,  788,  899,  937,  961,  978,\n",
              "         990, 1026]),\n",
              " array([0, 1, 2, 0, 0, 2, 0, 0, 2, 2, 2, 0, 0, 2, 0, 2, 2, 2, 2, 2, 0, 2,\n",
              "        0, 2, 2, 2, 0, 2, 2, 0, 0, 2, 2, 0, 2]))"
            ]
          },
          "metadata": {
            "tags": []
          },
          "execution_count": 727
        }
      ]
    },
    {
      "cell_type": "code",
      "metadata": {
        "colab": {
          "base_uri": "https://localhost:8080/",
          "height": 217
        },
        "id": "B5T9amY3zjWy",
        "outputId": "35a7a12c-4148-4562-bc1d-05471f7da07f"
      },
      "source": [
        "data.iloc[outliers[0], :].head()"
      ],
      "execution_count": 728,
      "outputs": [
        {
          "output_type": "execute_result",
          "data": {
            "text/html": [
              "<div>\n",
              "<style scoped>\n",
              "    .dataframe tbody tr th:only-of-type {\n",
              "        vertical-align: middle;\n",
              "    }\n",
              "\n",
              "    .dataframe tbody tr th {\n",
              "        vertical-align: top;\n",
              "    }\n",
              "\n",
              "    .dataframe thead th {\n",
              "        text-align: right;\n",
              "    }\n",
              "</style>\n",
              "<table border=\"1\" class=\"dataframe\">\n",
              "  <thead>\n",
              "    <tr style=\"text-align: right;\">\n",
              "      <th></th>\n",
              "      <th>ID</th>\n",
              "      <th>Subject</th>\n",
              "      <th>school</th>\n",
              "      <th>sex</th>\n",
              "      <th>age</th>\n",
              "      <th>address</th>\n",
              "      <th>famsize</th>\n",
              "      <th>Pstatus</th>\n",
              "      <th>Medu</th>\n",
              "      <th>Fedu</th>\n",
              "      <th>Mjob</th>\n",
              "      <th>Fjob</th>\n",
              "      <th>reason</th>\n",
              "      <th>guardian</th>\n",
              "      <th>traveltime</th>\n",
              "      <th>studytime</th>\n",
              "      <th>failures</th>\n",
              "      <th>schoolsup</th>\n",
              "      <th>famsup</th>\n",
              "      <th>paid</th>\n",
              "      <th>activities</th>\n",
              "      <th>nursery</th>\n",
              "      <th>higher</th>\n",
              "      <th>internet</th>\n",
              "      <th>romantic</th>\n",
              "      <th>famrel</th>\n",
              "      <th>freetime</th>\n",
              "      <th>goout</th>\n",
              "      <th>Dalc</th>\n",
              "      <th>Walc</th>\n",
              "      <th>health</th>\n",
              "      <th>absences</th>\n",
              "      <th>cheating</th>\n",
              "      <th>G1</th>\n",
              "      <th>G2</th>\n",
              "      <th>G3</th>\n",
              "    </tr>\n",
              "  </thead>\n",
              "  <tbody>\n",
              "    <tr>\n",
              "      <th>27</th>\n",
              "      <td>125309</td>\n",
              "      <td>Math</td>\n",
              "      <td>GP</td>\n",
              "      <td>F</td>\n",
              "      <td>17</td>\n",
              "      <td>U</td>\n",
              "      <td>GT3</td>\n",
              "      <td>T</td>\n",
              "      <td>4</td>\n",
              "      <td>4</td>\n",
              "      <td>services</td>\n",
              "      <td>teacher</td>\n",
              "      <td>home</td>\n",
              "      <td>mother</td>\n",
              "      <td>2</td>\n",
              "      <td>1</td>\n",
              "      <td>1</td>\n",
              "      <td>no</td>\n",
              "      <td>yes</td>\n",
              "      <td>no</td>\n",
              "      <td>no</td>\n",
              "      <td>yes</td>\n",
              "      <td>yes</td>\n",
              "      <td>yes</td>\n",
              "      <td>no</td>\n",
              "      <td>4</td>\n",
              "      <td>2</td>\n",
              "      <td>4</td>\n",
              "      <td>2</td>\n",
              "      <td>3</td>\n",
              "      <td>2</td>\n",
              "      <td>24</td>\n",
              "      <td>no</td>\n",
              "      <td>18</td>\n",
              "      <td>18</td>\n",
              "      <td>18</td>\n",
              "    </tr>\n",
              "    <tr>\n",
              "      <th>61</th>\n",
              "      <td>146260</td>\n",
              "      <td>Por</td>\n",
              "      <td>GP</td>\n",
              "      <td>F</td>\n",
              "      <td>18</td>\n",
              "      <td>U</td>\n",
              "      <td>GT3</td>\n",
              "      <td>A</td>\n",
              "      <td>4</td>\n",
              "      <td>4</td>\n",
              "      <td>at_home</td>\n",
              "      <td>teacher</td>\n",
              "      <td>course</td>\n",
              "      <td>mother</td>\n",
              "      <td>2</td>\n",
              "      <td>2</td>\n",
              "      <td>0</td>\n",
              "      <td>yes</td>\n",
              "      <td>no</td>\n",
              "      <td>no</td>\n",
              "      <td>no</td>\n",
              "      <td>yes</td>\n",
              "      <td>yes</td>\n",
              "      <td>no</td>\n",
              "      <td>no</td>\n",
              "      <td>4</td>\n",
              "      <td>3</td>\n",
              "      <td>4</td>\n",
              "      <td>1</td>\n",
              "      <td>1</td>\n",
              "      <td>3</td>\n",
              "      <td>4</td>\n",
              "      <td>no</td>\n",
              "      <td>0</td>\n",
              "      <td>11</td>\n",
              "      <td>11</td>\n",
              "    </tr>\n",
              "    <tr>\n",
              "      <th>83</th>\n",
              "      <td>163217</td>\n",
              "      <td>Por</td>\n",
              "      <td>MS</td>\n",
              "      <td>F</td>\n",
              "      <td>19</td>\n",
              "      <td>R</td>\n",
              "      <td>GT3</td>\n",
              "      <td>A</td>\n",
              "      <td>1</td>\n",
              "      <td>1</td>\n",
              "      <td>at_home</td>\n",
              "      <td>at_home</td>\n",
              "      <td>course</td>\n",
              "      <td>other</td>\n",
              "      <td>2</td>\n",
              "      <td>2</td>\n",
              "      <td>3</td>\n",
              "      <td>no</td>\n",
              "      <td>yes</td>\n",
              "      <td>no</td>\n",
              "      <td>yes</td>\n",
              "      <td>yes</td>\n",
              "      <td>no</td>\n",
              "      <td>no</td>\n",
              "      <td>yes</td>\n",
              "      <td>3</td>\n",
              "      <td>5</td>\n",
              "      <td>4</td>\n",
              "      <td>1</td>\n",
              "      <td>4</td>\n",
              "      <td>1</td>\n",
              "      <td>0</td>\n",
              "      <td>yes</td>\n",
              "      <td>8</td>\n",
              "      <td>0</td>\n",
              "      <td>0</td>\n",
              "    </tr>\n",
              "    <tr>\n",
              "      <th>219</th>\n",
              "      <td>278808</td>\n",
              "      <td>Por</td>\n",
              "      <td>GP</td>\n",
              "      <td>F</td>\n",
              "      <td>15</td>\n",
              "      <td>U</td>\n",
              "      <td>GT3</td>\n",
              "      <td>A</td>\n",
              "      <td>3</td>\n",
              "      <td>3</td>\n",
              "      <td>services</td>\n",
              "      <td>services</td>\n",
              "      <td>home</td>\n",
              "      <td>mother</td>\n",
              "      <td>1</td>\n",
              "      <td>2</td>\n",
              "      <td>0</td>\n",
              "      <td>no</td>\n",
              "      <td>no</td>\n",
              "      <td>no</td>\n",
              "      <td>no</td>\n",
              "      <td>no</td>\n",
              "      <td>yes</td>\n",
              "      <td>no</td>\n",
              "      <td>yes</td>\n",
              "      <td>1</td>\n",
              "      <td>3</td>\n",
              "      <td>2</td>\n",
              "      <td>2</td>\n",
              "      <td>3</td>\n",
              "      <td>1</td>\n",
              "      <td>24</td>\n",
              "      <td>yes</td>\n",
              "      <td>9</td>\n",
              "      <td>8</td>\n",
              "      <td>9</td>\n",
              "    </tr>\n",
              "    <tr>\n",
              "      <th>226</th>\n",
              "      <td>283207</td>\n",
              "      <td>Por</td>\n",
              "      <td>GP</td>\n",
              "      <td>M</td>\n",
              "      <td>18</td>\n",
              "      <td>U</td>\n",
              "      <td>GT3</td>\n",
              "      <td>T</td>\n",
              "      <td>2</td>\n",
              "      <td>2</td>\n",
              "      <td>other</td>\n",
              "      <td>at_home</td>\n",
              "      <td>course</td>\n",
              "      <td>other</td>\n",
              "      <td>1</td>\n",
              "      <td>1</td>\n",
              "      <td>1</td>\n",
              "      <td>no</td>\n",
              "      <td>yes</td>\n",
              "      <td>no</td>\n",
              "      <td>yes</td>\n",
              "      <td>no</td>\n",
              "      <td>no</td>\n",
              "      <td>yes</td>\n",
              "      <td>yes</td>\n",
              "      <td>4</td>\n",
              "      <td>4</td>\n",
              "      <td>3</td>\n",
              "      <td>2</td>\n",
              "      <td>2</td>\n",
              "      <td>1</td>\n",
              "      <td>26</td>\n",
              "      <td>no</td>\n",
              "      <td>7</td>\n",
              "      <td>8</td>\n",
              "      <td>8</td>\n",
              "    </tr>\n",
              "  </tbody>\n",
              "</table>\n",
              "</div>"
            ],
            "text/plain": [
              "         ID Subject school sex  age address famsize Pstatus  Medu  Fedu  \\\n",
              "27   125309    Math     GP   F   17       U     GT3       T     4     4   \n",
              "61   146260     Por     GP   F   18       U     GT3       A     4     4   \n",
              "83   163217     Por     MS   F   19       R     GT3       A     1     1   \n",
              "219  278808     Por     GP   F   15       U     GT3       A     3     3   \n",
              "226  283207     Por     GP   M   18       U     GT3       T     2     2   \n",
              "\n",
              "         Mjob      Fjob  reason guardian  traveltime  studytime  failures  \\\n",
              "27   services   teacher    home   mother           2          1         1   \n",
              "61    at_home   teacher  course   mother           2          2         0   \n",
              "83    at_home   at_home  course    other           2          2         3   \n",
              "219  services  services    home   mother           1          2         0   \n",
              "226     other   at_home  course    other           1          1         1   \n",
              "\n",
              "    schoolsup famsup paid activities nursery higher internet romantic  famrel  \\\n",
              "27         no    yes   no         no     yes    yes      yes       no       4   \n",
              "61        yes     no   no         no     yes    yes       no       no       4   \n",
              "83         no    yes   no        yes     yes     no       no      yes       3   \n",
              "219        no     no   no         no      no    yes       no      yes       1   \n",
              "226        no    yes   no        yes      no     no      yes      yes       4   \n",
              "\n",
              "     freetime  goout  Dalc  Walc  health  absences cheating  G1  G2  G3  \n",
              "27          2      4     2     3       2        24       no  18  18  18  \n",
              "61          3      4     1     1       3         4       no   0  11  11  \n",
              "83          5      4     1     4       1         0      yes   8   0   0  \n",
              "219         3      2     2     3       1        24      yes   9   8   9  \n",
              "226         4      3     2     2       1        26       no   7   8   8  "
            ]
          },
          "metadata": {
            "tags": []
          },
          "execution_count": 728
        }
      ]
    },
    {
      "cell_type": "code",
      "metadata": {
        "colab": {
          "base_uri": "https://localhost:8080/"
        },
        "id": "jfLQXZo4YsEQ",
        "outputId": "22b57670-a3d7-4c2e-9b1a-d2e2383805d9"
      },
      "source": [
        "counter = Counter(outliers[1])\n",
        "\n",
        "print(f'С помощью z-score было найдено {len(outliers[0])} выбросов по 4 признакам, указанным выше.\\n')\n",
        "print(f'Количество выбросов по каждому признаку:\\n')\n",
        "\n",
        "for idx, i in counter.items():\n",
        "  print(f\"{data.loc[:, ['absences', 'G1', 'G2', 'G3']].columns[idx]:8} --> {i}\")"
      ],
      "execution_count": 729,
      "outputs": [
        {
          "output_type": "stream",
          "text": [
            "С помощью z-score было найдено 35 выбросов по 4 признакам, указанным выше.\n",
            "\n",
            "Количество выбросов по каждому признаку:\n",
            "\n",
            "absences --> 14\n",
            "G1       --> 1\n",
            "G2       --> 20\n"
          ],
          "name": "stdout"
        }
      ]
    },
    {
      "cell_type": "code",
      "metadata": {
        "colab": {
          "base_uri": "https://localhost:8080/"
        },
        "id": "vG3wkEJ5TYVT",
        "outputId": "13561cde-e64b-4791-c414-53ba6d40a8ff"
      },
      "source": [
        "Q1 = data.loc[:, ['absences', 'G1', 'G2', 'G3']].quantile(0.25)\n",
        "Q3 = data.loc[:, ['absences', 'G1', 'G2', 'G3']].quantile(0.75)\n",
        "IQR = Q3 - Q1\n",
        "\n",
        "print(f'Q1\\n{Q1}\\n')\n",
        "print(f'Q3\\n{Q3}\\n')\n",
        "print(f'IQR\\n{IQR}\\n')"
      ],
      "execution_count": 730,
      "outputs": [
        {
          "output_type": "stream",
          "text": [
            "Q1\n",
            "absences     0.0\n",
            "G1           9.0\n",
            "G2           9.0\n",
            "G3          10.0\n",
            "Name: 0.25, dtype: float64\n",
            "\n",
            "Q3\n",
            "absences     6.0\n",
            "G1          13.0\n",
            "G2          13.0\n",
            "G3          14.0\n",
            "Name: 0.75, dtype: float64\n",
            "\n",
            "IQR\n",
            "absences    6.0\n",
            "G1          4.0\n",
            "G2          4.0\n",
            "G3          4.0\n",
            "dtype: float64\n",
            "\n"
          ],
          "name": "stdout"
        }
      ]
    },
    {
      "cell_type": "code",
      "metadata": {
        "id": "8Ax51fuLUKl1"
      },
      "source": [
        "iqr = ((data < (Q1 - 1.5 * IQR)) |(data > (Q3 + 1.5 * IQR)))"
      ],
      "execution_count": 731,
      "outputs": []
    },
    {
      "cell_type": "code",
      "metadata": {
        "colab": {
          "base_uri": "https://localhost:8080/"
        },
        "id": "WAXIgfNJVqxJ",
        "outputId": "5a2e3b28-b284-4260-8369-a268274303c9"
      },
      "source": [
        "print(f'С помощью IQR (тот же box plot) было найдено {iqr.sum(axis=0).sum()} выбросов по 4 признакам, указанным выше.\\n')\n",
        "print(f'Количество выбросов по каждому признаку:\\n')\n",
        "\n",
        "for i in ['absences', 'G1', 'G2', 'G3']:\n",
        "  print(f\"{i:8} --> {iqr.sum(axis=0)[i]}\")"
      ],
      "execution_count": 732,
      "outputs": [
        {
          "output_type": "stream",
          "text": [
            "С помощью IQR (тот же box plot) было найдено 129 выбросов по 4 признакам, указанным выше.\n",
            "\n",
            "Количество выбросов по каждому признаку:\n",
            "\n",
            "absences --> 54\n",
            "G1       --> 1\n",
            "G2       --> 20\n",
            "G3       --> 54\n"
          ],
          "name": "stdout"
        }
      ]
    },
    {
      "cell_type": "code",
      "metadata": {
        "id": "jBWOqJbCW3Gi"
      },
      "source": [
        "clean_data_idx = data[~iqr.any(axis=1)]['ID']"
      ],
      "execution_count": 733,
      "outputs": []
    },
    {
      "cell_type": "code",
      "metadata": {
        "id": "qchJWCl5cg1M"
      },
      "source": [
        "clean_data = data[data['ID'].isin(clean_data_idx)]"
      ],
      "execution_count": 734,
      "outputs": []
    },
    {
      "cell_type": "code",
      "metadata": {
        "id": "KcmCclddcIGT"
      },
      "source": [
        "# Переведём данные в числовой вид\n",
        "enc_data = clean_data.copy()\n",
        "for col in data.columns:\n",
        "  if data[col].dtype == pd.Categorical:\n",
        "    enc_data[col], _ = pd.factorize(clean_data[col])"
      ],
      "execution_count": 735,
      "outputs": []
    },
    {
      "cell_type": "code",
      "metadata": {
        "colab": {
          "base_uri": "https://localhost:8080/"
        },
        "id": "YI5m61Q6uG4P",
        "outputId": "26e53bdd-f2c9-4250-8888-4b8bac77b686"
      },
      "source": [
        "cat_vars = ['Subject', 'school', 'sex', 'address', 'famsize',\n",
        "            'Pstatus', 'Medu', 'Fedu', 'Mjob', 'Fjob', 'reason', 'guardian',\n",
        "            'traveltime', 'studytime', 'schoolsup', 'famsup', 'paid',\n",
        "            'activities', 'nursery', 'higher', 'internet', 'romantic',\n",
        "            'famrel', 'freetime', 'goout', 'Dalc', 'Walc', 'health', 'cheating']\n",
        "\n",
        "for i in cat_vars:\n",
        "  clean_data.loc[:, i] = clean_data[i].astype('category')\n",
        "\n",
        "clean_data.loc[:, 'ID'] = clean_data['ID'].astype('object')\n",
        "\n",
        "clean_data.dtypes"
      ],
      "execution_count": 736,
      "outputs": [
        {
          "output_type": "execute_result",
          "data": {
            "text/plain": [
              "ID              object\n",
              "Subject       category\n",
              "school        category\n",
              "sex           category\n",
              "age              int64\n",
              "address       category\n",
              "famsize       category\n",
              "Pstatus       category\n",
              "Medu          category\n",
              "Fedu          category\n",
              "Mjob          category\n",
              "Fjob          category\n",
              "reason        category\n",
              "guardian      category\n",
              "traveltime    category\n",
              "studytime     category\n",
              "failures         int64\n",
              "schoolsup     category\n",
              "famsup        category\n",
              "paid          category\n",
              "activities    category\n",
              "nursery       category\n",
              "higher        category\n",
              "internet      category\n",
              "romantic      category\n",
              "famrel        category\n",
              "freetime      category\n",
              "goout         category\n",
              "Dalc          category\n",
              "Walc          category\n",
              "health        category\n",
              "absences         int64\n",
              "cheating      category\n",
              "G1               int64\n",
              "G2               int64\n",
              "G3               int64\n",
              "dtype: object"
            ]
          },
          "metadata": {
            "tags": []
          },
          "execution_count": 736
        }
      ]
    },
    {
      "cell_type": "markdown",
      "metadata": {
        "id": "9QtnbmHBs133"
      },
      "source": [
        "### Задание  11 <a id=\"task11\"></a>  \n",
        "  \n",
        "Часть из представленных в данных студентов посещали оба курса - `Math` и `Por`.  \n",
        "* Предложите способ идентификации студентов и определите тех, кто посещал оба курса. Сколько таких студентов?  \n",
        "* Для этих студентов сравните оценки по двум предметам, дайте комментарий.  \n",
        "  \n",
        "**Note:** Столбец `ID` является уникальным идентификатором наблюдения, но не студента. Он будет уникален для каждой строки."
      ]
    },
    {
      "cell_type": "markdown",
      "metadata": {
        "id": "E_Xkaql5s6XG"
      },
      "source": [
        "**Сразу перейдём к 11 заданию и заранее выясним студентов, посещающих оба курса.**"
      ]
    },
    {
      "cell_type": "code",
      "metadata": {
        "id": "HoTCMEeMtumr"
      },
      "source": [
        "students = data.groupby(data.columns[2:-3].tolist()).groups\n",
        "duplicate_students = [students[x] for x in students if len(students[x]) > 1]\n",
        "\n",
        "duplicate_marks = {}\n",
        "\n",
        "for idx, i in enumerate(duplicate_students):\n",
        "  duplicate_marks[idx, data.iloc[i[0], 1]] = data.iloc[i[0], [0, -3, -2, -1]]\n",
        "  duplicate_marks[idx, data.iloc[i[1], 1]] = data.iloc[i[1], [0, -3, -2, -1]]\n",
        "\n",
        "duplicate_idx = pd.MultiIndex.from_tuples(duplicate_marks)"
      ],
      "execution_count": 737,
      "outputs": []
    },
    {
      "cell_type": "code",
      "metadata": {
        "colab": {
          "base_uri": "https://localhost:8080/",
          "height": 197
        },
        "id": "_u5pVmXZs134",
        "outputId": "fe278eae-5beb-4d6e-f5e3-303a0afb2948"
      },
      "source": [
        "mp = pd.DataFrame(index=duplicate_idx, data=duplicate_marks.values(),\n",
        "                  columns=['ID', 'G1', 'G2', 'G3'])\n",
        "mp.index.set_names(['Student', 'Subject'], inplace=True)\n",
        "mp['ID'] = mp['ID'].astype('object')\n",
        "mp.head(4)"
      ],
      "execution_count": 738,
      "outputs": [
        {
          "output_type": "execute_result",
          "data": {
            "text/html": [
              "<div>\n",
              "<style scoped>\n",
              "    .dataframe tbody tr th:only-of-type {\n",
              "        vertical-align: middle;\n",
              "    }\n",
              "\n",
              "    .dataframe tbody tr th {\n",
              "        vertical-align: top;\n",
              "    }\n",
              "\n",
              "    .dataframe thead th {\n",
              "        text-align: right;\n",
              "    }\n",
              "</style>\n",
              "<table border=\"1\" class=\"dataframe\">\n",
              "  <thead>\n",
              "    <tr style=\"text-align: right;\">\n",
              "      <th></th>\n",
              "      <th></th>\n",
              "      <th>ID</th>\n",
              "      <th>G1</th>\n",
              "      <th>G2</th>\n",
              "      <th>G3</th>\n",
              "    </tr>\n",
              "    <tr>\n",
              "      <th>Student</th>\n",
              "      <th>Subject</th>\n",
              "      <th></th>\n",
              "      <th></th>\n",
              "      <th></th>\n",
              "      <th></th>\n",
              "    </tr>\n",
              "  </thead>\n",
              "  <tbody>\n",
              "    <tr>\n",
              "      <th rowspan=\"2\" valign=\"top\">0</th>\n",
              "      <th>Math</th>\n",
              "      <td>257390</td>\n",
              "      <td>10</td>\n",
              "      <td>11</td>\n",
              "      <td>11</td>\n",
              "    </tr>\n",
              "    <tr>\n",
              "      <th>Por</th>\n",
              "      <td>746312</td>\n",
              "      <td>10</td>\n",
              "      <td>10</td>\n",
              "      <td>10</td>\n",
              "    </tr>\n",
              "    <tr>\n",
              "      <th rowspan=\"2\" valign=\"top\">1</th>\n",
              "      <th>Math</th>\n",
              "      <td>544841</td>\n",
              "      <td>9</td>\n",
              "      <td>10</td>\n",
              "      <td>10</td>\n",
              "    </tr>\n",
              "    <tr>\n",
              "      <th>Por</th>\n",
              "      <td>566220</td>\n",
              "      <td>13</td>\n",
              "      <td>12</td>\n",
              "      <td>12</td>\n",
              "    </tr>\n",
              "  </tbody>\n",
              "</table>\n",
              "</div>"
            ],
            "text/plain": [
              "                     ID  G1  G2  G3\n",
              "Student Subject                    \n",
              "0       Math     257390  10  11  11\n",
              "        Por      746312  10  10  10\n",
              "1       Math     544841   9  10  10\n",
              "        Por      566220  13  12  12"
            ]
          },
          "metadata": {
            "tags": []
          },
          "execution_count": 738
        }
      ]
    },
    {
      "cell_type": "code",
      "metadata": {
        "colab": {
          "base_uri": "https://localhost:8080/",
          "height": 137
        },
        "id": "0IkqH4I8bE4i",
        "outputId": "82ef9999-5573-476d-b745-d63f2d85d5fc"
      },
      "source": [
        "mp.groupby('Subject').mean()"
      ],
      "execution_count": 739,
      "outputs": [
        {
          "output_type": "execute_result",
          "data": {
            "text/html": [
              "<div>\n",
              "<style scoped>\n",
              "    .dataframe tbody tr th:only-of-type {\n",
              "        vertical-align: middle;\n",
              "    }\n",
              "\n",
              "    .dataframe tbody tr th {\n",
              "        vertical-align: top;\n",
              "    }\n",
              "\n",
              "    .dataframe thead th {\n",
              "        text-align: right;\n",
              "    }\n",
              "</style>\n",
              "<table border=\"1\" class=\"dataframe\">\n",
              "  <thead>\n",
              "    <tr style=\"text-align: right;\">\n",
              "      <th></th>\n",
              "      <th>G1</th>\n",
              "      <th>G2</th>\n",
              "      <th>G3</th>\n",
              "    </tr>\n",
              "    <tr>\n",
              "      <th>Subject</th>\n",
              "      <th></th>\n",
              "      <th></th>\n",
              "      <th></th>\n",
              "    </tr>\n",
              "  </thead>\n",
              "  <tbody>\n",
              "    <tr>\n",
              "      <th>Math</th>\n",
              "      <td>11.724138</td>\n",
              "      <td>12.034483</td>\n",
              "      <td>12.344828</td>\n",
              "    </tr>\n",
              "    <tr>\n",
              "      <th>Por</th>\n",
              "      <td>12.379310</td>\n",
              "      <td>12.517241</td>\n",
              "      <td>12.586207</td>\n",
              "    </tr>\n",
              "  </tbody>\n",
              "</table>\n",
              "</div>"
            ],
            "text/plain": [
              "                G1         G2         G3\n",
              "Subject                                 \n",
              "Math     11.724138  12.034483  12.344828\n",
              "Por      12.379310  12.517241  12.586207"
            ]
          },
          "metadata": {
            "tags": []
          },
          "execution_count": 739
        }
      ]
    },
    {
      "cell_type": "markdown",
      "metadata": {
        "id": "3VnY359sBrqi"
      },
      "source": [
        "- Во втором семестре у этих студентов балл в среднем чуть выше, чем в первом семестре.\n",
        "- По итогам учебного года балл оказался чуть выше, чем отдельно по семестрам."
      ]
    },
    {
      "cell_type": "code",
      "metadata": {
        "colab": {
          "base_uri": "https://localhost:8080/"
        },
        "id": "9koxy5C_C75p",
        "outputId": "1db0ecd8-ae9e-4a4b-968f-51e2a7653f72"
      },
      "source": [
        "mp.groupby('Subject').mean().sum(axis=1)"
      ],
      "execution_count": 740,
      "outputs": [
        {
          "output_type": "execute_result",
          "data": {
            "text/plain": [
              "Subject\n",
              "Math    36.103448\n",
              "Por     37.482759\n",
              "dtype: float64"
            ]
          },
          "metadata": {
            "tags": []
          },
          "execution_count": 740
        }
      ]
    },
    {
      "cell_type": "markdown",
      "metadata": {
        "id": "7TMC2Hn5s136"
      },
      "source": [
        "\r\n",
        "\r\n",
        "*   Студенты почти с одинаковым успехом справились с одновременным посещением двух курсов с небольшим перевесом в пользу португальского\r\n",
        "\r\n"
      ]
    },
    {
      "cell_type": "code",
      "metadata": {
        "id": "TSWptnVVDGM8"
      },
      "source": [
        "math_idx = mp.xs('Math', level=1)['ID']\n",
        "por_idx = mp.xs('Por', level=1)['ID']"
      ],
      "execution_count": 741,
      "outputs": []
    },
    {
      "cell_type": "markdown",
      "metadata": {
        "id": "LDgSga_jNE9d"
      },
      "source": [
        "- Отдельно сохраним ID наблюдений студентов, посещающих два курса"
      ]
    },
    {
      "cell_type": "markdown",
      "metadata": {
        "id": "wwHoBUEtqhlj"
      },
      "source": [
        "### Задание 4 \n",
        "  \n",
        "* Посчитайте описательные статистики для числовых и для категориальных признаков. \n",
        "* Сколько студентов посещают каждую из школ?  \n",
        "* Сколько студентов посещают математику, сколько - португальский?  \n",
        "* Студенты какого курса чаще заваливают экзамены?  \n",
        "* Сколько в среднем времени в неделю уходит на учебу по каждому предмету?  \n",
        "* На что чаще обращают внимание при выборе школы?"
      ]
    },
    {
      "cell_type": "code",
      "metadata": {
        "colab": {
          "base_uri": "https://localhost:8080/",
          "height": 307
        },
        "id": "-nYswrq6qhlk",
        "outputId": "77d2716f-aa8a-4c65-ae17-8b05d0cd32fc"
      },
      "source": [
        "enc_data.describe()"
      ],
      "execution_count": 742,
      "outputs": [
        {
          "output_type": "execute_result",
          "data": {
            "text/html": [
              "<div>\n",
              "<style scoped>\n",
              "    .dataframe tbody tr th:only-of-type {\n",
              "        vertical-align: middle;\n",
              "    }\n",
              "\n",
              "    .dataframe tbody tr th {\n",
              "        vertical-align: top;\n",
              "    }\n",
              "\n",
              "    .dataframe thead th {\n",
              "        text-align: right;\n",
              "    }\n",
              "</style>\n",
              "<table border=\"1\" class=\"dataframe\">\n",
              "  <thead>\n",
              "    <tr style=\"text-align: right;\">\n",
              "      <th></th>\n",
              "      <th>ID</th>\n",
              "      <th>Subject</th>\n",
              "      <th>school</th>\n",
              "      <th>sex</th>\n",
              "      <th>age</th>\n",
              "      <th>address</th>\n",
              "      <th>famsize</th>\n",
              "      <th>Pstatus</th>\n",
              "      <th>Medu</th>\n",
              "      <th>Fedu</th>\n",
              "      <th>Mjob</th>\n",
              "      <th>Fjob</th>\n",
              "      <th>reason</th>\n",
              "      <th>guardian</th>\n",
              "      <th>traveltime</th>\n",
              "      <th>studytime</th>\n",
              "      <th>failures</th>\n",
              "      <th>schoolsup</th>\n",
              "      <th>famsup</th>\n",
              "      <th>paid</th>\n",
              "      <th>activities</th>\n",
              "      <th>nursery</th>\n",
              "      <th>higher</th>\n",
              "      <th>internet</th>\n",
              "      <th>romantic</th>\n",
              "      <th>famrel</th>\n",
              "      <th>freetime</th>\n",
              "      <th>goout</th>\n",
              "      <th>Dalc</th>\n",
              "      <th>Walc</th>\n",
              "      <th>health</th>\n",
              "      <th>absences</th>\n",
              "      <th>cheating</th>\n",
              "      <th>G1</th>\n",
              "      <th>G2</th>\n",
              "      <th>G3</th>\n",
              "    </tr>\n",
              "  </thead>\n",
              "  <tbody>\n",
              "    <tr>\n",
              "      <th>count</th>\n",
              "      <td>936.000000</td>\n",
              "      <td>936.000000</td>\n",
              "      <td>936.000000</td>\n",
              "      <td>936.000000</td>\n",
              "      <td>936.000000</td>\n",
              "      <td>936.000000</td>\n",
              "      <td>936.000000</td>\n",
              "      <td>936.000000</td>\n",
              "      <td>936.000000</td>\n",
              "      <td>936.000000</td>\n",
              "      <td>936.000000</td>\n",
              "      <td>936.000000</td>\n",
              "      <td>936.000000</td>\n",
              "      <td>936.000000</td>\n",
              "      <td>936.000000</td>\n",
              "      <td>936.000000</td>\n",
              "      <td>936.000000</td>\n",
              "      <td>936.000000</td>\n",
              "      <td>936.000000</td>\n",
              "      <td>936.000000</td>\n",
              "      <td>936.000000</td>\n",
              "      <td>936.000000</td>\n",
              "      <td>936.000000</td>\n",
              "      <td>936.000000</td>\n",
              "      <td>936.000000</td>\n",
              "      <td>936.000000</td>\n",
              "      <td>936.000000</td>\n",
              "      <td>936.000000</td>\n",
              "      <td>936.000000</td>\n",
              "      <td>936.000000</td>\n",
              "      <td>936.000000</td>\n",
              "      <td>936.000000</td>\n",
              "      <td>936.000000</td>\n",
              "      <td>936.000000</td>\n",
              "      <td>936.000000</td>\n",
              "      <td>936.000000</td>\n",
              "    </tr>\n",
              "    <tr>\n",
              "      <th>mean</th>\n",
              "      <td>548661.392094</td>\n",
              "      <td>0.346154</td>\n",
              "      <td>0.270299</td>\n",
              "      <td>0.434829</td>\n",
              "      <td>16.662393</td>\n",
              "      <td>0.274573</td>\n",
              "      <td>0.299145</td>\n",
              "      <td>0.888889</td>\n",
              "      <td>2.605769</td>\n",
              "      <td>2.394231</td>\n",
              "      <td>1.594017</td>\n",
              "      <td>0.780983</td>\n",
              "      <td>1.035256</td>\n",
              "      <td>0.819444</td>\n",
              "      <td>1.519231</td>\n",
              "      <td>1.994658</td>\n",
              "      <td>0.214744</td>\n",
              "      <td>0.119658</td>\n",
              "      <td>0.616453</td>\n",
              "      <td>0.211538</td>\n",
              "      <td>0.496795</td>\n",
              "      <td>0.197650</td>\n",
              "      <td>0.073718</td>\n",
              "      <td>0.211538</td>\n",
              "      <td>0.334402</td>\n",
              "      <td>3.942308</td>\n",
              "      <td>3.193376</td>\n",
              "      <td>3.145299</td>\n",
              "      <td>1.470085</td>\n",
              "      <td>2.257479</td>\n",
              "      <td>3.544872</td>\n",
              "      <td>3.644231</td>\n",
              "      <td>0.164530</td>\n",
              "      <td>11.481838</td>\n",
              "      <td>11.697650</td>\n",
              "      <td>12.056624</td>\n",
              "    </tr>\n",
              "    <tr>\n",
              "      <th>std</th>\n",
              "      <td>264435.046029</td>\n",
              "      <td>0.475997</td>\n",
              "      <td>0.444352</td>\n",
              "      <td>0.496000</td>\n",
              "      <td>1.216340</td>\n",
              "      <td>0.446537</td>\n",
              "      <td>0.458128</td>\n",
              "      <td>0.314438</td>\n",
              "      <td>1.135489</td>\n",
              "      <td>1.102030</td>\n",
              "      <td>1.344319</td>\n",
              "      <td>1.155365</td>\n",
              "      <td>1.041306</td>\n",
              "      <td>0.517590</td>\n",
              "      <td>0.736848</td>\n",
              "      <td>0.843328</td>\n",
              "      <td>0.602878</td>\n",
              "      <td>0.324735</td>\n",
              "      <td>0.486510</td>\n",
              "      <td>0.408618</td>\n",
              "      <td>0.500257</td>\n",
              "      <td>0.398439</td>\n",
              "      <td>0.261451</td>\n",
              "      <td>0.408618</td>\n",
              "      <td>0.472033</td>\n",
              "      <td>0.926661</td>\n",
              "      <td>1.031068</td>\n",
              "      <td>1.131106</td>\n",
              "      <td>0.898699</td>\n",
              "      <td>1.277928</td>\n",
              "      <td>1.425556</td>\n",
              "      <td>3.845482</td>\n",
              "      <td>0.370954</td>\n",
              "      <td>2.874504</td>\n",
              "      <td>2.813154</td>\n",
              "      <td>2.859640</td>\n",
              "    </tr>\n",
              "    <tr>\n",
              "      <th>min</th>\n",
              "      <td>100097.000000</td>\n",
              "      <td>0.000000</td>\n",
              "      <td>0.000000</td>\n",
              "      <td>0.000000</td>\n",
              "      <td>15.000000</td>\n",
              "      <td>0.000000</td>\n",
              "      <td>0.000000</td>\n",
              "      <td>0.000000</td>\n",
              "      <td>0.000000</td>\n",
              "      <td>0.000000</td>\n",
              "      <td>0.000000</td>\n",
              "      <td>0.000000</td>\n",
              "      <td>0.000000</td>\n",
              "      <td>0.000000</td>\n",
              "      <td>1.000000</td>\n",
              "      <td>1.000000</td>\n",
              "      <td>0.000000</td>\n",
              "      <td>0.000000</td>\n",
              "      <td>0.000000</td>\n",
              "      <td>0.000000</td>\n",
              "      <td>0.000000</td>\n",
              "      <td>0.000000</td>\n",
              "      <td>0.000000</td>\n",
              "      <td>0.000000</td>\n",
              "      <td>0.000000</td>\n",
              "      <td>1.000000</td>\n",
              "      <td>1.000000</td>\n",
              "      <td>1.000000</td>\n",
              "      <td>1.000000</td>\n",
              "      <td>1.000000</td>\n",
              "      <td>1.000000</td>\n",
              "      <td>0.000000</td>\n",
              "      <td>0.000000</td>\n",
              "      <td>3.000000</td>\n",
              "      <td>5.000000</td>\n",
              "      <td>5.000000</td>\n",
              "    </tr>\n",
              "    <tr>\n",
              "      <th>25%</th>\n",
              "      <td>324628.250000</td>\n",
              "      <td>0.000000</td>\n",
              "      <td>0.000000</td>\n",
              "      <td>0.000000</td>\n",
              "      <td>16.000000</td>\n",
              "      <td>0.000000</td>\n",
              "      <td>0.000000</td>\n",
              "      <td>1.000000</td>\n",
              "      <td>2.000000</td>\n",
              "      <td>1.000000</td>\n",
              "      <td>1.000000</td>\n",
              "      <td>0.000000</td>\n",
              "      <td>0.000000</td>\n",
              "      <td>1.000000</td>\n",
              "      <td>1.000000</td>\n",
              "      <td>1.000000</td>\n",
              "      <td>0.000000</td>\n",
              "      <td>0.000000</td>\n",
              "      <td>0.000000</td>\n",
              "      <td>0.000000</td>\n",
              "      <td>0.000000</td>\n",
              "      <td>0.000000</td>\n",
              "      <td>0.000000</td>\n",
              "      <td>0.000000</td>\n",
              "      <td>0.000000</td>\n",
              "      <td>4.000000</td>\n",
              "      <td>3.000000</td>\n",
              "      <td>2.000000</td>\n",
              "      <td>1.000000</td>\n",
              "      <td>1.000000</td>\n",
              "      <td>3.000000</td>\n",
              "      <td>0.000000</td>\n",
              "      <td>0.000000</td>\n",
              "      <td>10.000000</td>\n",
              "      <td>10.000000</td>\n",
              "      <td>10.000000</td>\n",
              "    </tr>\n",
              "    <tr>\n",
              "      <th>50%</th>\n",
              "      <td>557660.500000</td>\n",
              "      <td>0.000000</td>\n",
              "      <td>0.000000</td>\n",
              "      <td>0.000000</td>\n",
              "      <td>17.000000</td>\n",
              "      <td>0.000000</td>\n",
              "      <td>0.000000</td>\n",
              "      <td>1.000000</td>\n",
              "      <td>3.000000</td>\n",
              "      <td>2.000000</td>\n",
              "      <td>1.000000</td>\n",
              "      <td>0.000000</td>\n",
              "      <td>1.000000</td>\n",
              "      <td>1.000000</td>\n",
              "      <td>1.000000</td>\n",
              "      <td>2.000000</td>\n",
              "      <td>0.000000</td>\n",
              "      <td>0.000000</td>\n",
              "      <td>1.000000</td>\n",
              "      <td>0.000000</td>\n",
              "      <td>0.000000</td>\n",
              "      <td>0.000000</td>\n",
              "      <td>0.000000</td>\n",
              "      <td>0.000000</td>\n",
              "      <td>0.000000</td>\n",
              "      <td>4.000000</td>\n",
              "      <td>3.000000</td>\n",
              "      <td>3.000000</td>\n",
              "      <td>1.000000</td>\n",
              "      <td>2.000000</td>\n",
              "      <td>4.000000</td>\n",
              "      <td>2.000000</td>\n",
              "      <td>0.000000</td>\n",
              "      <td>11.000000</td>\n",
              "      <td>12.000000</td>\n",
              "      <td>12.000000</td>\n",
              "    </tr>\n",
              "    <tr>\n",
              "      <th>75%</th>\n",
              "      <td>777731.500000</td>\n",
              "      <td>1.000000</td>\n",
              "      <td>1.000000</td>\n",
              "      <td>1.000000</td>\n",
              "      <td>18.000000</td>\n",
              "      <td>1.000000</td>\n",
              "      <td>1.000000</td>\n",
              "      <td>1.000000</td>\n",
              "      <td>4.000000</td>\n",
              "      <td>3.000000</td>\n",
              "      <td>3.000000</td>\n",
              "      <td>1.000000</td>\n",
              "      <td>2.000000</td>\n",
              "      <td>1.000000</td>\n",
              "      <td>2.000000</td>\n",
              "      <td>2.000000</td>\n",
              "      <td>0.000000</td>\n",
              "      <td>0.000000</td>\n",
              "      <td>1.000000</td>\n",
              "      <td>0.000000</td>\n",
              "      <td>1.000000</td>\n",
              "      <td>0.000000</td>\n",
              "      <td>0.000000</td>\n",
              "      <td>0.000000</td>\n",
              "      <td>1.000000</td>\n",
              "      <td>5.000000</td>\n",
              "      <td>4.000000</td>\n",
              "      <td>4.000000</td>\n",
              "      <td>2.000000</td>\n",
              "      <td>3.000000</td>\n",
              "      <td>5.000000</td>\n",
              "      <td>6.000000</td>\n",
              "      <td>0.000000</td>\n",
              "      <td>14.000000</td>\n",
              "      <td>14.000000</td>\n",
              "      <td>14.000000</td>\n",
              "    </tr>\n",
              "    <tr>\n",
              "      <th>max</th>\n",
              "      <td>999194.000000</td>\n",
              "      <td>1.000000</td>\n",
              "      <td>1.000000</td>\n",
              "      <td>1.000000</td>\n",
              "      <td>22.000000</td>\n",
              "      <td>1.000000</td>\n",
              "      <td>1.000000</td>\n",
              "      <td>1.000000</td>\n",
              "      <td>4.000000</td>\n",
              "      <td>4.000000</td>\n",
              "      <td>4.000000</td>\n",
              "      <td>4.000000</td>\n",
              "      <td>3.000000</td>\n",
              "      <td>2.000000</td>\n",
              "      <td>4.000000</td>\n",
              "      <td>4.000000</td>\n",
              "      <td>3.000000</td>\n",
              "      <td>1.000000</td>\n",
              "      <td>1.000000</td>\n",
              "      <td>1.000000</td>\n",
              "      <td>1.000000</td>\n",
              "      <td>1.000000</td>\n",
              "      <td>1.000000</td>\n",
              "      <td>1.000000</td>\n",
              "      <td>1.000000</td>\n",
              "      <td>5.000000</td>\n",
              "      <td>5.000000</td>\n",
              "      <td>5.000000</td>\n",
              "      <td>5.000000</td>\n",
              "      <td>5.000000</td>\n",
              "      <td>5.000000</td>\n",
              "      <td>21.000000</td>\n",
              "      <td>1.000000</td>\n",
              "      <td>19.000000</td>\n",
              "      <td>19.000000</td>\n",
              "      <td>20.000000</td>\n",
              "    </tr>\n",
              "  </tbody>\n",
              "</table>\n",
              "</div>"
            ],
            "text/plain": [
              "                  ID     Subject      school         sex         age  \\\n",
              "count     936.000000  936.000000  936.000000  936.000000  936.000000   \n",
              "mean   548661.392094    0.346154    0.270299    0.434829   16.662393   \n",
              "std    264435.046029    0.475997    0.444352    0.496000    1.216340   \n",
              "min    100097.000000    0.000000    0.000000    0.000000   15.000000   \n",
              "25%    324628.250000    0.000000    0.000000    0.000000   16.000000   \n",
              "50%    557660.500000    0.000000    0.000000    0.000000   17.000000   \n",
              "75%    777731.500000    1.000000    1.000000    1.000000   18.000000   \n",
              "max    999194.000000    1.000000    1.000000    1.000000   22.000000   \n",
              "\n",
              "          address     famsize     Pstatus        Medu        Fedu        Mjob  \\\n",
              "count  936.000000  936.000000  936.000000  936.000000  936.000000  936.000000   \n",
              "mean     0.274573    0.299145    0.888889    2.605769    2.394231    1.594017   \n",
              "std      0.446537    0.458128    0.314438    1.135489    1.102030    1.344319   \n",
              "min      0.000000    0.000000    0.000000    0.000000    0.000000    0.000000   \n",
              "25%      0.000000    0.000000    1.000000    2.000000    1.000000    1.000000   \n",
              "50%      0.000000    0.000000    1.000000    3.000000    2.000000    1.000000   \n",
              "75%      1.000000    1.000000    1.000000    4.000000    3.000000    3.000000   \n",
              "max      1.000000    1.000000    1.000000    4.000000    4.000000    4.000000   \n",
              "\n",
              "             Fjob      reason    guardian  traveltime   studytime    failures  \\\n",
              "count  936.000000  936.000000  936.000000  936.000000  936.000000  936.000000   \n",
              "mean     0.780983    1.035256    0.819444    1.519231    1.994658    0.214744   \n",
              "std      1.155365    1.041306    0.517590    0.736848    0.843328    0.602878   \n",
              "min      0.000000    0.000000    0.000000    1.000000    1.000000    0.000000   \n",
              "25%      0.000000    0.000000    1.000000    1.000000    1.000000    0.000000   \n",
              "50%      0.000000    1.000000    1.000000    1.000000    2.000000    0.000000   \n",
              "75%      1.000000    2.000000    1.000000    2.000000    2.000000    0.000000   \n",
              "max      4.000000    3.000000    2.000000    4.000000    4.000000    3.000000   \n",
              "\n",
              "        schoolsup      famsup        paid  activities     nursery      higher  \\\n",
              "count  936.000000  936.000000  936.000000  936.000000  936.000000  936.000000   \n",
              "mean     0.119658    0.616453    0.211538    0.496795    0.197650    0.073718   \n",
              "std      0.324735    0.486510    0.408618    0.500257    0.398439    0.261451   \n",
              "min      0.000000    0.000000    0.000000    0.000000    0.000000    0.000000   \n",
              "25%      0.000000    0.000000    0.000000    0.000000    0.000000    0.000000   \n",
              "50%      0.000000    1.000000    0.000000    0.000000    0.000000    0.000000   \n",
              "75%      0.000000    1.000000    0.000000    1.000000    0.000000    0.000000   \n",
              "max      1.000000    1.000000    1.000000    1.000000    1.000000    1.000000   \n",
              "\n",
              "         internet    romantic      famrel    freetime       goout        Dalc  \\\n",
              "count  936.000000  936.000000  936.000000  936.000000  936.000000  936.000000   \n",
              "mean     0.211538    0.334402    3.942308    3.193376    3.145299    1.470085   \n",
              "std      0.408618    0.472033    0.926661    1.031068    1.131106    0.898699   \n",
              "min      0.000000    0.000000    1.000000    1.000000    1.000000    1.000000   \n",
              "25%      0.000000    0.000000    4.000000    3.000000    2.000000    1.000000   \n",
              "50%      0.000000    0.000000    4.000000    3.000000    3.000000    1.000000   \n",
              "75%      0.000000    1.000000    5.000000    4.000000    4.000000    2.000000   \n",
              "max      1.000000    1.000000    5.000000    5.000000    5.000000    5.000000   \n",
              "\n",
              "             Walc      health    absences    cheating          G1          G2  \\\n",
              "count  936.000000  936.000000  936.000000  936.000000  936.000000  936.000000   \n",
              "mean     2.257479    3.544872    3.644231    0.164530   11.481838   11.697650   \n",
              "std      1.277928    1.425556    3.845482    0.370954    2.874504    2.813154   \n",
              "min      1.000000    1.000000    0.000000    0.000000    3.000000    5.000000   \n",
              "25%      1.000000    3.000000    0.000000    0.000000   10.000000   10.000000   \n",
              "50%      2.000000    4.000000    2.000000    0.000000   11.000000   12.000000   \n",
              "75%      3.000000    5.000000    6.000000    0.000000   14.000000   14.000000   \n",
              "max      5.000000    5.000000   21.000000    1.000000   19.000000   19.000000   \n",
              "\n",
              "               G3  \n",
              "count  936.000000  \n",
              "mean    12.056624  \n",
              "std      2.859640  \n",
              "min      5.000000  \n",
              "25%     10.000000  \n",
              "50%     12.000000  \n",
              "75%     14.000000  \n",
              "max     20.000000  "
            ]
          },
          "metadata": {
            "tags": []
          },
          "execution_count": 742
        }
      ]
    },
    {
      "cell_type": "code",
      "metadata": {
        "colab": {
          "base_uri": "https://localhost:8080/"
        },
        "id": "4qm30Z2Ez7nV",
        "outputId": "60589bc5-00f3-4160-ee1e-3ce5378f3b9f"
      },
      "source": [
        "cat_vars = ['Subject', 'school', 'sex', 'address', 'famsize',\n",
        "            'Pstatus', 'Medu', 'Fedu', 'Mjob', 'Fjob', 'reason', 'guardian',\n",
        "            'traveltime', 'studytime', 'schoolsup', 'famsup', 'paid',\n",
        "            'activities', 'nursery', 'higher', 'internet', 'romantic',\n",
        "            'famrel', 'freetime', 'goout', 'Dalc', 'Walc', 'health', 'cheating']\n",
        "\n",
        "for i in cat_vars:\n",
        "  enc_data.loc[:, i] = enc_data[i].astype('category')\n",
        "\n",
        "enc_data.loc[:, 'ID'] = enc_data['ID'].astype('object')\n",
        "\n",
        "enc_data.dtypes"
      ],
      "execution_count": 743,
      "outputs": [
        {
          "output_type": "execute_result",
          "data": {
            "text/plain": [
              "ID              object\n",
              "Subject       category\n",
              "school        category\n",
              "sex           category\n",
              "age              int64\n",
              "address       category\n",
              "famsize       category\n",
              "Pstatus       category\n",
              "Medu          category\n",
              "Fedu          category\n",
              "Mjob          category\n",
              "Fjob          category\n",
              "reason        category\n",
              "guardian      category\n",
              "traveltime    category\n",
              "studytime     category\n",
              "failures         int64\n",
              "schoolsup     category\n",
              "famsup        category\n",
              "paid          category\n",
              "activities    category\n",
              "nursery       category\n",
              "higher        category\n",
              "internet      category\n",
              "romantic      category\n",
              "famrel        category\n",
              "freetime      category\n",
              "goout         category\n",
              "Dalc          category\n",
              "Walc          category\n",
              "health        category\n",
              "absences         int64\n",
              "cheating      category\n",
              "G1               int64\n",
              "G2               int64\n",
              "G3               int64\n",
              "dtype: object"
            ]
          },
          "metadata": {
            "tags": []
          },
          "execution_count": 743
        }
      ]
    },
    {
      "cell_type": "markdown",
      "metadata": {
        "id": "_PksN3agVFVm"
      },
      "source": [
        "- Дальнейший анализ будем проводить, не учитывая часть студентов, посещающих два курса\n",
        "- Так как у них почти одна и та же информация (кроме предмета и оценок), то можем произвольно выбирать, что оставляем, а что убираем, если вопрос не касается признаков в скобках\n",
        "- **Проведём анализ, удалив выбросы, обнаруженные с помощью IQR**"
      ]
    },
    {
      "cell_type": "code",
      "metadata": {
        "colab": {
          "base_uri": "https://localhost:8080/"
        },
        "id": "4ArGG2SAPtqI",
        "outputId": "7edb3916-f3df-435a-aa95-da74f88e0a65"
      },
      "source": [
        "# Количество студентов, посещающих каждую из школ\n",
        "clean_data[~data['ID'].isin(math_idx)].value_counts(subset='school')"
      ],
      "execution_count": 744,
      "outputs": [
        {
          "output_type": "execute_result",
          "data": {
            "text/plain": [
              "school\n",
              "GP    658\n",
              "MS    250\n",
              "dtype: int64"
            ]
          },
          "metadata": {
            "tags": []
          },
          "execution_count": 744
        }
      ]
    },
    {
      "cell_type": "code",
      "metadata": {
        "colab": {
          "base_uri": "https://localhost:8080/"
        },
        "id": "XFcJkPDDSp5f",
        "outputId": "f02173fe-25e3-4049-b7ad-455d9f7ab2c1"
      },
      "source": [
        "# Количество студентов, посещающих математику и португальский\n",
        "clean_data.value_counts(subset='Subject')"
      ],
      "execution_count": 745,
      "outputs": [
        {
          "output_type": "execute_result",
          "data": {
            "text/plain": [
              "Subject\n",
              "Por     612\n",
              "Math    324\n",
              "dtype: int64"
            ]
          },
          "metadata": {
            "tags": []
          },
          "execution_count": 745
        }
      ]
    },
    {
      "cell_type": "code",
      "metadata": {
        "colab": {
          "base_uri": "https://localhost:8080/",
          "height": 137
        },
        "id": "Q21L0GLUS7ac",
        "outputId": "643da38d-b532-4565-f6e5-34d35eea2fc7"
      },
      "source": [
        "# Студенты, посещающие математику, в среднем чаще заваливают другие курсы\n",
        "# (если брать в учёт среднее количество заваленных курсов)\n",
        "clean_data.groupby('Subject')[['failures']].mean()"
      ],
      "execution_count": 746,
      "outputs": [
        {
          "output_type": "execute_result",
          "data": {
            "text/html": [
              "<div>\n",
              "<style scoped>\n",
              "    .dataframe tbody tr th:only-of-type {\n",
              "        vertical-align: middle;\n",
              "    }\n",
              "\n",
              "    .dataframe tbody tr th {\n",
              "        vertical-align: top;\n",
              "    }\n",
              "\n",
              "    .dataframe thead th {\n",
              "        text-align: right;\n",
              "    }\n",
              "</style>\n",
              "<table border=\"1\" class=\"dataframe\">\n",
              "  <thead>\n",
              "    <tr style=\"text-align: right;\">\n",
              "      <th></th>\n",
              "      <th>failures</th>\n",
              "    </tr>\n",
              "    <tr>\n",
              "      <th>Subject</th>\n",
              "      <th></th>\n",
              "    </tr>\n",
              "  </thead>\n",
              "  <tbody>\n",
              "    <tr>\n",
              "      <th>Math</th>\n",
              "      <td>0.237654</td>\n",
              "    </tr>\n",
              "    <tr>\n",
              "      <th>Por</th>\n",
              "      <td>0.202614</td>\n",
              "    </tr>\n",
              "  </tbody>\n",
              "</table>\n",
              "</div>"
            ],
            "text/plain": [
              "         failures\n",
              "Subject          \n",
              "Math     0.237654\n",
              "Por      0.202614"
            ]
          },
          "metadata": {
            "tags": []
          },
          "execution_count": 746
        }
      ]
    },
    {
      "cell_type": "code",
      "metadata": {
        "colab": {
          "base_uri": "https://localhost:8080/",
          "height": 137
        },
        "id": "iEWUDXe-tqUo",
        "outputId": "f1283839-9041-44e1-9c50-c9a2fd57856f"
      },
      "source": [
        "# Студенты, посещающие португальский, заваливают больше курсов\n",
        "# (если рассматривать абсолютное количество заваленных курсов)\n",
        "data.groupby('Subject')[['failures']].count()"
      ],
      "execution_count": 747,
      "outputs": [
        {
          "output_type": "execute_result",
          "data": {
            "text/html": [
              "<div>\n",
              "<style scoped>\n",
              "    .dataframe tbody tr th:only-of-type {\n",
              "        vertical-align: middle;\n",
              "    }\n",
              "\n",
              "    .dataframe tbody tr th {\n",
              "        vertical-align: top;\n",
              "    }\n",
              "\n",
              "    .dataframe thead th {\n",
              "        text-align: right;\n",
              "    }\n",
              "</style>\n",
              "<table border=\"1\" class=\"dataframe\">\n",
              "  <thead>\n",
              "    <tr style=\"text-align: right;\">\n",
              "      <th></th>\n",
              "      <th>failures</th>\n",
              "    </tr>\n",
              "    <tr>\n",
              "      <th>Subject</th>\n",
              "      <th></th>\n",
              "    </tr>\n",
              "  </thead>\n",
              "  <tbody>\n",
              "    <tr>\n",
              "      <th>Math</th>\n",
              "      <td>395</td>\n",
              "    </tr>\n",
              "    <tr>\n",
              "      <th>Por</th>\n",
              "      <td>649</td>\n",
              "    </tr>\n",
              "  </tbody>\n",
              "</table>\n",
              "</div>"
            ],
            "text/plain": [
              "         failures\n",
              "Subject          \n",
              "Math          395\n",
              "Por           649"
            ]
          },
          "metadata": {
            "tags": []
          },
          "execution_count": 747
        }
      ]
    },
    {
      "cell_type": "code",
      "metadata": {
        "colab": {
          "base_uri": "https://localhost:8080/"
        },
        "id": "gFtiueDHVHO1",
        "outputId": "72e36834-f39b-4b67-8bd2-ee706c82eb45"
      },
      "source": [
        "# На математика уходит в среднем чуть больше времени, хотя результаты близки\n",
        "# и на оба этих предмета ученики тратят обычно от 2 до 5 часов\n",
        "# (округлим 1.95 до 2 ради наглядности)\n",
        "clean_data['studytime'] = clean_data['studytime'].astype(int)\n",
        "clean_data.groupby('Subject')['studytime'].mean()"
      ],
      "execution_count": 748,
      "outputs": [
        {
          "output_type": "execute_result",
          "data": {
            "text/plain": [
              "Subject\n",
              "Math    2.074074\n",
              "Por     1.952614\n",
              "Name: studytime, dtype: float64"
            ]
          },
          "metadata": {
            "tags": []
          },
          "execution_count": 748
        }
      ]
    },
    {
      "cell_type": "code",
      "metadata": {
        "colab": {
          "base_uri": "https://localhost:8080/"
        },
        "id": "FrEc8uLjWMxB",
        "outputId": "236a4048-d030-48f0-b9ed-4e4c8696051e"
      },
      "source": [
        "# При выборе школы чаще всего обращают внимание на читаемые курсы\n",
        "clean_data['reason'].value_counts()"
      ],
      "execution_count": 749,
      "outputs": [
        {
          "output_type": "execute_result",
          "data": {
            "text/plain": [
              "course        392\n",
              "reputation    227\n",
              "home          218\n",
              "other          99\n",
              "Name: reason, dtype: int64"
            ]
          },
          "metadata": {
            "tags": []
          },
          "execution_count": 749
        }
      ]
    },
    {
      "cell_type": "markdown",
      "metadata": {
        "id": "5xxmqfUgqhlk"
      },
      "source": [
        "### Задание 5  \n",
        "  \n",
        "Оцените распределение оценок (отдельно для `G1`, `G2` и `G3`). Сравните распределения для разных предметов - математики и португальского языка. Сделайте выводы.  \n",
        "  \n",
        "**Tip:** Для выполнения задания пригодятся графики плотности, гистограммы и боксплоты."
      ]
    },
    {
      "cell_type": "markdown",
      "metadata": {
        "id": "wXCBnoGsZ7Ud"
      },
      "source": [
        "- Будем анализировать данные с удалёнными после IQR сэмплами"
      ]
    },
    {
      "cell_type": "code",
      "metadata": {
        "colab": {
          "base_uri": "https://localhost:8080/",
          "height": 385
        },
        "id": "A4euQGOHqhlk",
        "outputId": "3772411c-4f2d-4872-c864-986c753b7972"
      },
      "source": [
        "sns.catplot(data=clean_data[['Subject', 'G1', 'G2', 'G3']], kind='box', col='Subject')"
      ],
      "execution_count": 750,
      "outputs": [
        {
          "output_type": "execute_result",
          "data": {
            "text/plain": [
              "<seaborn.axisgrid.FacetGrid at 0x7fb40d224f10>"
            ]
          },
          "metadata": {
            "tags": []
          },
          "execution_count": 750
        },
        {
          "output_type": "display_data",
          "data": {
            "image/png": "[encoded data removed]",
            "text/plain": [
              "<Figure size 720x360 with 2 Axes>"
            ]
          },
          "metadata": {
            "tags": [],
            "needs_background": "light"
          }
        }
      ]
    },
    {
      "cell_type": "markdown",
      "metadata": {
        "id": "nas6kELJYLdE"
      },
      "source": [
        "- В среднем, диапазон итоговых оценок у португальского шире диапазона промежуточных, у математики наоборот\n",
        "- Диапазон оценок по математике шире, чем по португальскому"
      ]
    },
    {
      "cell_type": "code",
      "metadata": {
        "colab": {
          "base_uri": "https://localhost:8080/",
          "height": 500
        },
        "id": "g0FRI3VpwK8H",
        "outputId": "143d8fbf-b02a-4fb9-f6d5-4d0a2f27ab55"
      },
      "source": [
        "plt.figure(figsize=(12, 8))\n",
        "sns.histplot(data=clean_data[clean_data['Subject'] == 'Math'][['G1', 'G2', 'G3']], kde=True, multiple='stack')"
      ],
      "execution_count": 751,
      "outputs": [
        {
          "output_type": "execute_result",
          "data": {
            "text/plain": [
              "<matplotlib.axes._subplots.AxesSubplot at 0x7fb40de495d0>"
            ]
          },
          "metadata": {
            "tags": []
          },
          "execution_count": 751
        },
        {
          "output_type": "display_data",
          "data": {
            "image/png": "[encoded data removed]",
            "text/plain": [
              "<Figure size 864x576 with 1 Axes>"
            ]
          },
          "metadata": {
            "tags": [],
            "needs_background": "light"
          }
        }
      ]
    },
    {
      "cell_type": "markdown",
      "metadata": {
        "id": "hO4nOlGiYr9Z"
      },
      "source": [
        "- Итоговые и промежуточные оценки очень сильно коррелируют между собой, как можно видеть на графике выше\n",
        "- Разница чуть более заметна для оценок в диапазоне примерно от 5 до 8; здесь доминируют оценки за 1 семестр, т.е. в первый семестр в этом диапазоне их было больше, чем во втором семестр и в итоге\n",
        "- Относительно предыдущего вывода, вторым по численности в этом диапазоне был 2 семестр, а меньше всего оценок в этом диапазоне в итоговых оценках"
      ]
    },
    {
      "cell_type": "code",
      "metadata": {
        "colab": {
          "base_uri": "https://localhost:8080/",
          "height": 500
        },
        "id": "eItZrVr4y7cm",
        "outputId": "32654a59-4518-4c82-846e-33a2f6ccd690"
      },
      "source": [
        "plt.figure(figsize=(12, 8))\n",
        "sns.histplot(data=clean_data[clean_data['Subject'] == 'Por'][['G1', 'G2', 'G3']], kde=True, multiple='stack')"
      ],
      "execution_count": 752,
      "outputs": [
        {
          "output_type": "execute_result",
          "data": {
            "text/plain": [
              "<matplotlib.axes._subplots.AxesSubplot at 0x7fb40cff5850>"
            ]
          },
          "metadata": {
            "tags": []
          },
          "execution_count": 752
        },
        {
          "output_type": "display_data",
          "data": {
            "image/png": "[encoded data removed]",
            "text/plain": [
              "<Figure size 864x576 with 1 Axes>"
            ]
          },
          "metadata": {
            "tags": [],
            "needs_background": "light"
          }
        }
      ]
    },
    {
      "cell_type": "markdown",
      "metadata": {
        "id": "NuWjcX-CZzx7"
      },
      "source": [
        "- Здесь статистика схожа с графиком распределения для математики, но основные расхождения оценок в промежуточных и итоговых оценках лежат в диапазоне от 5 до 10, что чуть больше, чем для португальского\n",
        "- В диапазоне от 14 до 16 итоговый балл чуть выше, чем в промежуточном оценивании"
      ]
    },
    {
      "cell_type": "markdown",
      "metadata": {
        "id": "7njZi_8b7O_E"
      },
      "source": [
        "\r\n",
        "\r\n",
        "- В общем, по графикам плотности распределения можно сказать, что в среднем наиболее высокими оказались итоговые оценки по математике и оценки по результатам второго полугодия по португальскому.\r\n",
        "\r\n"
      ]
    },
    {
      "cell_type": "markdown",
      "metadata": {
        "id": "7hr0jNRAqhlk"
      },
      "source": [
        "### Задание 6 \n",
        "  \n",
        "Оцените попарные зависимости числовых признаков.  \n",
        "Рассчитайте и провизуализируйте матрицу корреляций. Дайте содержательный комментарий."
      ]
    },
    {
      "cell_type": "code",
      "metadata": {
        "colab": {
          "base_uri": "https://localhost:8080/",
          "height": 503
        },
        "id": "FrROFs0wqhll",
        "outputId": "84b675b5-902a-459f-dc22-abefc89e2bae"
      },
      "source": [
        "plt.figure(figsize=(10, 8))\n",
        "sns.heatmap(clean_data.select_dtypes('int64').corr())"
      ],
      "execution_count": 753,
      "outputs": [
        {
          "output_type": "execute_result",
          "data": {
            "text/plain": [
              "<matplotlib.axes._subplots.AxesSubplot at 0x7fb40cf8ce10>"
            ]
          },
          "metadata": {
            "tags": []
          },
          "execution_count": 753
        },
        {
          "output_type": "display_data",
          "data": {
            "image/png": "[encoded data removed]",
            "text/plain": [
              "<Figure size 720x576 with 2 Axes>"
            ]
          },
          "metadata": {
            "tags": [],
            "needs_background": "light"
          }
        }
      ]
    },
    {
      "cell_type": "markdown",
      "metadata": {
        "id": "J3loSjySKXQ0"
      },
      "source": [
        "- Очевидно, что между признаками промежуточных и итоговых оценок высокая корреляция\n",
        "- Удивительно, но достаточно сильно коррелирует возраст с количеством завалов. Возможно, люди с возрастом начинают более серьёзно подходить к делу, возможно и наоборот. \n",
        "- А может они просто учатся дольше и успели накопить больше долгов, это уже надо отдельно смотреть :)\n",
        "- Негативная корреляция (обратная зависимость) существует и между оценками и количеством завалов, что достаточно логично"
      ]
    },
    {
      "cell_type": "markdown",
      "metadata": {
        "id": "4ZxBTal2qhll"
      },
      "source": [
        "### Задание 7  \n",
        "  \n",
        "Оцените попарные зависимости нечисловых (категориальных) признаков, дайте содержательный комментарий. "
      ]
    },
    {
      "cell_type": "code",
      "metadata": {
        "colab": {
          "base_uri": "https://localhost:8080/",
          "height": 762
        },
        "id": "jj7UCxp_qhll",
        "outputId": "f4b4db8c-3f33-47cc-e187-ae92827b1f3e"
      },
      "source": [
        "plt.figure(figsize=(16, 12))\n",
        "catvars = enc_data.select_dtypes('category').astype(int)\n",
        "sns.heatmap(catvars.corr())"
      ],
      "execution_count": 754,
      "outputs": [
        {
          "output_type": "execute_result",
          "data": {
            "text/plain": [
              "<matplotlib.axes._subplots.AxesSubplot at 0x7fb40cdd8490>"
            ]
          },
          "metadata": {
            "tags": []
          },
          "execution_count": 754
        },
        {
          "output_type": "display_data",
          "data": {
            "image/png": "[encoded data removed]",
            "text/plain": [
              "<Figure size 1152x864 with 2 Axes>"
            ]
          },
          "metadata": {
            "tags": [],
            "needs_background": "light"
          }
        }
      ]
    },
    {
      "cell_type": "markdown",
      "metadata": {
        "id": "7a8IOtqEKYWv"
      },
      "source": [
        "- Сильно коррелируют предмет и наличие платных дополнительных занятий\n",
        "- Также наблюдается сильная корреляция между местом проживания ученика и выбранной школой, ибо люди выбирают, где им удобнее учиться\n",
        "- Время на дорогу зависит от школы и места проживания, что связано с прошлым пунктом\n",
        "- Количество выпиваемого алкоголя и состояние здоровья связано с полом респондента!\n",
        "- Количество времени, проведённого с друзьями, зависит от количества свободного времени после занятий\n",
        "- Количество выпиваемого алкоголя зависит от количества времени, проведённого с друзьями\n",
        "- Работа матери зависит от её образования\n",
        "- Наблюдается отрицательная корреляция между образованием родителей и выбранной школой\n",
        "- Отрицательная корреляция наблюдается и между выбранной школой и предметом\n",
        "- Наличие интернета и планы получать высшее образование также подвержены отрицательной корреляции с образованием родителей"
      ]
    },
    {
      "cell_type": "markdown",
      "metadata": {
        "id": "dOCyCk6tqhll"
      },
      "source": [
        "### Задание  8  \n",
        "  \n",
        "* Оцените, есть ли разница в употреблении алкоголя между парнями и девушками. Кто пьет больше?\n",
        "* Оцените связь употребления алкоголя с признаками: address, Pstatus, higher, romantic, freetime. \n",
        "* Оцените связь употребления алкоголя с уровнем образования опекуна (для случаев, где это известно).\n",
        "* Сравните употребление алкоголя для 50 лучших учеников и 50 худших (по `G3`). Выполните сравнение отдельно для каждого предмета (`Math` и `Por`). Дайте содержательный комментарий.  \n",
        "  \n",
        "**Tip:** для выполнения задания пригодятся боксплоты и гистограммы. "
      ]
    },
    {
      "cell_type": "code",
      "metadata": {
        "colab": {
          "base_uri": "https://localhost:8080/",
          "height": 292
        },
        "id": "ZrpWRpG6qhlm",
        "outputId": "265e9023-f47d-4259-dff9-d1a8680c1de1"
      },
      "source": [
        "# Разница в употреблении алкоголя между парнями и девушками\n",
        "catvars[['sex', 'Dalc', 'Walc']].groupby('sex').mean().plot(kind='bar')"
      ],
      "execution_count": 755,
      "outputs": [
        {
          "output_type": "execute_result",
          "data": {
            "text/plain": [
              "<matplotlib.axes._subplots.AxesSubplot at 0x7fb40dc5d9d0>"
            ]
          },
          "metadata": {
            "tags": []
          },
          "execution_count": 755
        },
        {
          "output_type": "display_data",
          "data": {
            "image/png": "[encoded data removed]",
            "text/plain": [
              "<Figure size 432x288 with 1 Axes>"
            ]
          },
          "metadata": {
            "tags": [],
            "needs_background": "light"
          }
        }
      ]
    },
    {
      "cell_type": "markdown",
      "metadata": {
        "id": "UUjNjGFO35CX"
      },
      "source": [
        "- Здесь **0** -- **F**, а **1** -- **M**\n",
        "- Тогда отсюда следует, что мужчины в среднем пьют значительно больше как в будние, так и в выходные дни"
      ]
    },
    {
      "cell_type": "code",
      "metadata": {
        "id": "-TcfZ4Ua4Tth"
      },
      "source": [
        "data_8 = enc_data[['address', 'Pstatus', 'higher', 'romantic', 'freetime']].astype(int)"
      ],
      "execution_count": 756,
      "outputs": []
    },
    {
      "cell_type": "code",
      "metadata": {
        "id": "Npq4uZ-O7Zpt"
      },
      "source": [
        "alc_features = (data_8.corrwith(enc_data['Dalc']) + data_8.corrwith(enc_data['Walc'])).sort_values()"
      ],
      "execution_count": 757,
      "outputs": []
    },
    {
      "cell_type": "code",
      "metadata": {
        "colab": {
          "base_uri": "https://localhost:8080/",
          "height": 316
        },
        "id": "m4Z8A9Rf8MEm",
        "outputId": "df7e8ecd-1a30-4b72-efa8-d89ebde5639d"
      },
      "source": [
        "# Признаки, коррелирующие с употреблением алкоголя отсортированы в порядке значимости\n",
        "# Самый коррелирующий признак -- количество свободного времени\n",
        "# Наименее коррелирующий -- состояние в романтических отношениях\n",
        "alc_features.plot(kind='bar')"
      ],
      "execution_count": 758,
      "outputs": [
        {
          "output_type": "execute_result",
          "data": {
            "text/plain": [
              "<matplotlib.axes._subplots.AxesSubplot at 0x7fb40cc9a4d0>"
            ]
          },
          "metadata": {
            "tags": []
          },
          "execution_count": 758
        },
        {
          "output_type": "display_data",
          "data": {
            "image/png": "[encoded data removed]",
            "text/plain": [
              "<Figure size 432x288 with 1 Axes>"
            ]
          },
          "metadata": {
            "tags": [],
            "needs_background": "light"
          }
        }
      ]
    },
    {
      "cell_type": "code",
      "metadata": {
        "colab": {
          "base_uri": "https://localhost:8080/",
          "height": 243
        },
        "id": "GCRxmKG5eKcr",
        "outputId": "251745a4-1a20-4f39-d8c5-a4d287214677"
      },
      "source": [
        "# Худшие студенты пьют достаточно много алкоголя\n",
        "plt.figure(figsize=(5,3))\n",
        "enc_data[['Dalc', 'Walc']] = enc_data[['Dalc', 'Walc']].astype(int)\n",
        "worst_students = enc_data.nsmallest(50, 'G3')\n",
        "sns.boxplot(data=worst_students[['Dalc','Walc']], orient='h').set_title('Употребление алкоголя 50 худшими студентами')"
      ],
      "execution_count": 759,
      "outputs": [
        {
          "output_type": "execute_result",
          "data": {
            "text/plain": [
              "Text(0.5, 1.0, 'Употребление алкоголя 50 худшими студентами')"
            ]
          },
          "metadata": {
            "tags": []
          },
          "execution_count": 759
        },
        {
          "output_type": "display_data",
          "data": {
            "image/png": "[encoded data removed]",
            "text/plain": [
              "<Figure size 360x216 with 1 Axes>"
            ]
          },
          "metadata": {
            "tags": [],
            "needs_background": "light"
          }
        }
      ]
    },
    {
      "cell_type": "code",
      "metadata": {
        "colab": {
          "base_uri": "https://localhost:8080/",
          "height": 243
        },
        "id": "Zr2d24bieXK0",
        "outputId": "128534d4-addd-4f9f-b27d-b2d24a0b2740"
      },
      "source": [
        "# Лучше студенты почти не пьют алкоголь\n",
        "plt.figure(figsize=(5,3))\n",
        "best_students = data.nlargest(50, 'G3')\n",
        "sns.boxplot(data=best_students[['Dalc','Walc']], orient='h').set_title('Употребление алкоголя 50 лучшими студентами')"
      ],
      "execution_count": 760,
      "outputs": [
        {
          "output_type": "execute_result",
          "data": {
            "text/plain": [
              "Text(0.5, 1.0, 'Употребление алкоголя 50 лучшими студентами')"
            ]
          },
          "metadata": {
            "tags": []
          },
          "execution_count": 760
        },
        {
          "output_type": "display_data",
          "data": {
            "image/png": "[encoded data removed]",
            "text/plain": [
              "<Figure size 360x216 with 1 Axes>"
            ]
          },
          "metadata": {
            "tags": [],
            "needs_background": "light"
          }
        }
      ]
    },
    {
      "cell_type": "markdown",
      "metadata": {
        "id": "1Y7cgj6fqhlm"
      },
      "source": [
        "### Задание 9     \n",
        "  \n",
        "Оцените зависимость итоговой оценки от следующих признаков: \n",
        "  \n",
        "* Пола\n",
        "* Времени в пути от дома до школы\n",
        "* Наличия дополнительной помощи в учебе (от членов семьи или вообще)\n",
        "* Посещения платных дополнительных занятий\n",
        "* Наличия интернета\n",
        "* Наличия романтических отношений\n",
        "* Употребления алкоголя  "
      ]
    },
    {
      "cell_type": "code",
      "metadata": {
        "colab": {
          "base_uri": "https://localhost:8080/",
          "height": 281
        },
        "id": "h4D7cO4nqhlm",
        "outputId": "7196eea9-1d42-4984-ac99-01d9fae4136f"
      },
      "source": [
        "enc_data[['sex', 'traveltime', 'famsup', 'paid', 'internet', 'romantic']] = enc_data[\n",
        "  ['sex', 'traveltime', 'famsup', 'paid', 'internet', 'romantic']\n",
        "  ].astype(int)\n",
        "\n",
        "corr_9 = enc_data[\n",
        "                  ['sex', 'traveltime', 'famsup', 'paid', 'internet', 'romantic', 'Dalc', 'Walc']\n",
        "                  ].corrwith(enc_data['G3']).sort_values()\n",
        "\n",
        "corr_9.plot(kind='barh')"
      ],
      "execution_count": 761,
      "outputs": [
        {
          "output_type": "execute_result",
          "data": {
            "text/plain": [
              "<matplotlib.axes._subplots.AxesSubplot at 0x7fb40cae4bd0>"
            ]
          },
          "metadata": {
            "tags": []
          },
          "execution_count": 761
        },
        {
          "output_type": "display_data",
          "data": {
            "image/png": "[encoded data removed]",
            "text/plain": [
              "<Figure size 432x288 with 1 Axes>"
            ]
          },
          "metadata": {
            "tags": [],
            "needs_background": "light"
          }
        }
      ]
    },
    {
      "cell_type": "markdown",
      "metadata": {
        "id": "YaT9APRA1PfV"
      },
      "source": [
        "- Итоговая оценка находится в наименьшей обратной зависимости от пола и обратной зависимости от остальных признаков, из которых наиболее существенным является употребление алкоголя."
      ]
    },
    {
      "cell_type": "markdown",
      "metadata": {
        "id": "i6-TWltHqhlm"
      },
      "source": [
        "### Задание 10  \n",
        "  \n",
        "Добавьте в данные новый признак - итоговая оценка по 4-х балльной шкале:  \n",
        "\n",
        "* Отлично: 18 <= `G3` <= 20\n",
        "* Хорошо: 14 <= `G3` <= 17\n",
        "* Удовлетворительно: 8 <= `G3` <= 13\n",
        "* Неудовлетворительно: `G3` < 8  \n",
        "  \n",
        "Оцените распределение нового признака в зависимости от признака `reason` (причина выбора школы). Дайте содержательный комментарий. "
      ]
    },
    {
      "cell_type": "code",
      "metadata": {
        "id": "0r57rg4zqhln"
      },
      "source": [
        "def get_gpa(score):\n",
        "  score = round(score)\n",
        "  \n",
        "  if 18 <= score <= 20:\n",
        "    return 'Отлично'\n",
        "  if 14 <= score <= 17:\n",
        "    return 'Хорошо'\n",
        "  if 8 <= score <= 13:\n",
        "    return 'Удовлетворительно'\n",
        "  if score < 8:\n",
        "    return 'Неудовлетворительно'"
      ],
      "execution_count": 762,
      "outputs": []
    },
    {
      "cell_type": "code",
      "metadata": {
        "id": "FDG9SeHEX_et"
      },
      "source": [
        "clean_data['GPA'] = clean_data['G3'].apply(get_gpa)\n",
        "enc_data['GPA'], _ = pd.factorize(clean_data['GPA'])"
      ],
      "execution_count": 763,
      "outputs": []
    },
    {
      "cell_type": "code",
      "metadata": {
        "colab": {
          "base_uri": "https://localhost:8080/",
          "height": 217
        },
        "id": "GFkkCTBPuWgM",
        "outputId": "7e5bbc97-5c49-4c13-e745-6dd221b990fd"
      },
      "source": [
        "clean_data[clean_data['GPA'] == 'Удовлетворительно'].head()"
      ],
      "execution_count": 764,
      "outputs": [
        {
          "output_type": "execute_result",
          "data": {
            "text/html": [
              "<div>\n",
              "<style scoped>\n",
              "    .dataframe tbody tr th:only-of-type {\n",
              "        vertical-align: middle;\n",
              "    }\n",
              "\n",
              "    .dataframe tbody tr th {\n",
              "        vertical-align: top;\n",
              "    }\n",
              "\n",
              "    .dataframe thead th {\n",
              "        text-align: right;\n",
              "    }\n",
              "</style>\n",
              "<table border=\"1\" class=\"dataframe\">\n",
              "  <thead>\n",
              "    <tr style=\"text-align: right;\">\n",
              "      <th></th>\n",
              "      <th>ID</th>\n",
              "      <th>Subject</th>\n",
              "      <th>school</th>\n",
              "      <th>sex</th>\n",
              "      <th>age</th>\n",
              "      <th>address</th>\n",
              "      <th>famsize</th>\n",
              "      <th>Pstatus</th>\n",
              "      <th>Medu</th>\n",
              "      <th>Fedu</th>\n",
              "      <th>Mjob</th>\n",
              "      <th>Fjob</th>\n",
              "      <th>reason</th>\n",
              "      <th>guardian</th>\n",
              "      <th>traveltime</th>\n",
              "      <th>studytime</th>\n",
              "      <th>failures</th>\n",
              "      <th>schoolsup</th>\n",
              "      <th>famsup</th>\n",
              "      <th>paid</th>\n",
              "      <th>activities</th>\n",
              "      <th>nursery</th>\n",
              "      <th>higher</th>\n",
              "      <th>internet</th>\n",
              "      <th>romantic</th>\n",
              "      <th>famrel</th>\n",
              "      <th>freetime</th>\n",
              "      <th>goout</th>\n",
              "      <th>Dalc</th>\n",
              "      <th>Walc</th>\n",
              "      <th>health</th>\n",
              "      <th>absences</th>\n",
              "      <th>cheating</th>\n",
              "      <th>G1</th>\n",
              "      <th>G2</th>\n",
              "      <th>G3</th>\n",
              "      <th>GPA</th>\n",
              "    </tr>\n",
              "  </thead>\n",
              "  <tbody>\n",
              "    <tr>\n",
              "      <th>2</th>\n",
              "      <td>102965</td>\n",
              "      <td>Por</td>\n",
              "      <td>GP</td>\n",
              "      <td>M</td>\n",
              "      <td>16</td>\n",
              "      <td>U</td>\n",
              "      <td>LE3</td>\n",
              "      <td>T</td>\n",
              "      <td>1</td>\n",
              "      <td>2</td>\n",
              "      <td>health</td>\n",
              "      <td>services</td>\n",
              "      <td>course</td>\n",
              "      <td>mother</td>\n",
              "      <td>2</td>\n",
              "      <td>1</td>\n",
              "      <td>2</td>\n",
              "      <td>no</td>\n",
              "      <td>no</td>\n",
              "      <td>no</td>\n",
              "      <td>no</td>\n",
              "      <td>no</td>\n",
              "      <td>yes</td>\n",
              "      <td>yes</td>\n",
              "      <td>no</td>\n",
              "      <td>4</td>\n",
              "      <td>4</td>\n",
              "      <td>5</td>\n",
              "      <td>3</td>\n",
              "      <td>5</td>\n",
              "      <td>5</td>\n",
              "      <td>0</td>\n",
              "      <td>yes</td>\n",
              "      <td>9</td>\n",
              "      <td>8</td>\n",
              "      <td>10</td>\n",
              "      <td>Удовлетворительно</td>\n",
              "    </tr>\n",
              "    <tr>\n",
              "      <th>4</th>\n",
              "      <td>103131</td>\n",
              "      <td>Por</td>\n",
              "      <td>GP</td>\n",
              "      <td>F</td>\n",
              "      <td>16</td>\n",
              "      <td>U</td>\n",
              "      <td>GT3</td>\n",
              "      <td>T</td>\n",
              "      <td>1</td>\n",
              "      <td>1</td>\n",
              "      <td>at_home</td>\n",
              "      <td>other</td>\n",
              "      <td>home</td>\n",
              "      <td>mother</td>\n",
              "      <td>2</td>\n",
              "      <td>1</td>\n",
              "      <td>0</td>\n",
              "      <td>no</td>\n",
              "      <td>yes</td>\n",
              "      <td>no</td>\n",
              "      <td>no</td>\n",
              "      <td>yes</td>\n",
              "      <td>yes</td>\n",
              "      <td>no</td>\n",
              "      <td>no</td>\n",
              "      <td>4</td>\n",
              "      <td>3</td>\n",
              "      <td>2</td>\n",
              "      <td>1</td>\n",
              "      <td>4</td>\n",
              "      <td>5</td>\n",
              "      <td>2</td>\n",
              "      <td>yes</td>\n",
              "      <td>12</td>\n",
              "      <td>13</td>\n",
              "      <td>13</td>\n",
              "      <td>Удовлетворительно</td>\n",
              "    </tr>\n",
              "    <tr>\n",
              "      <th>5</th>\n",
              "      <td>103144</td>\n",
              "      <td>Por</td>\n",
              "      <td>GP</td>\n",
              "      <td>M</td>\n",
              "      <td>18</td>\n",
              "      <td>U</td>\n",
              "      <td>LE3</td>\n",
              "      <td>T</td>\n",
              "      <td>3</td>\n",
              "      <td>1</td>\n",
              "      <td>services</td>\n",
              "      <td>services</td>\n",
              "      <td>course</td>\n",
              "      <td>mother</td>\n",
              "      <td>2</td>\n",
              "      <td>1</td>\n",
              "      <td>0</td>\n",
              "      <td>no</td>\n",
              "      <td>no</td>\n",
              "      <td>no</td>\n",
              "      <td>yes</td>\n",
              "      <td>yes</td>\n",
              "      <td>yes</td>\n",
              "      <td>yes</td>\n",
              "      <td>yes</td>\n",
              "      <td>3</td>\n",
              "      <td>3</td>\n",
              "      <td>4</td>\n",
              "      <td>4</td>\n",
              "      <td>5</td>\n",
              "      <td>4</td>\n",
              "      <td>2</td>\n",
              "      <td>no</td>\n",
              "      <td>11</td>\n",
              "      <td>11</td>\n",
              "      <td>12</td>\n",
              "      <td>Удовлетворительно</td>\n",
              "    </tr>\n",
              "    <tr>\n",
              "      <th>6</th>\n",
              "      <td>105257</td>\n",
              "      <td>Por</td>\n",
              "      <td>MS</td>\n",
              "      <td>F</td>\n",
              "      <td>18</td>\n",
              "      <td>U</td>\n",
              "      <td>GT3</td>\n",
              "      <td>T</td>\n",
              "      <td>1</td>\n",
              "      <td>1</td>\n",
              "      <td>other</td>\n",
              "      <td>other</td>\n",
              "      <td>course</td>\n",
              "      <td>mother</td>\n",
              "      <td>2</td>\n",
              "      <td>2</td>\n",
              "      <td>0</td>\n",
              "      <td>no</td>\n",
              "      <td>no</td>\n",
              "      <td>no</td>\n",
              "      <td>yes</td>\n",
              "      <td>yes</td>\n",
              "      <td>yes</td>\n",
              "      <td>no</td>\n",
              "      <td>no</td>\n",
              "      <td>1</td>\n",
              "      <td>1</td>\n",
              "      <td>1</td>\n",
              "      <td>1</td>\n",
              "      <td>1</td>\n",
              "      <td>5</td>\n",
              "      <td>6</td>\n",
              "      <td>no</td>\n",
              "      <td>11</td>\n",
              "      <td>12</td>\n",
              "      <td>9</td>\n",
              "      <td>Удовлетворительно</td>\n",
              "    </tr>\n",
              "    <tr>\n",
              "      <th>9</th>\n",
              "      <td>108089</td>\n",
              "      <td>Por</td>\n",
              "      <td>MS</td>\n",
              "      <td>M</td>\n",
              "      <td>16</td>\n",
              "      <td>R</td>\n",
              "      <td>GT3</td>\n",
              "      <td>T</td>\n",
              "      <td>3</td>\n",
              "      <td>4</td>\n",
              "      <td>other</td>\n",
              "      <td>health</td>\n",
              "      <td>other</td>\n",
              "      <td>mother</td>\n",
              "      <td>3</td>\n",
              "      <td>2</td>\n",
              "      <td>0</td>\n",
              "      <td>no</td>\n",
              "      <td>no</td>\n",
              "      <td>no</td>\n",
              "      <td>no</td>\n",
              "      <td>no</td>\n",
              "      <td>yes</td>\n",
              "      <td>no</td>\n",
              "      <td>no</td>\n",
              "      <td>3</td>\n",
              "      <td>4</td>\n",
              "      <td>5</td>\n",
              "      <td>1</td>\n",
              "      <td>2</td>\n",
              "      <td>5</td>\n",
              "      <td>4</td>\n",
              "      <td>no</td>\n",
              "      <td>9</td>\n",
              "      <td>10</td>\n",
              "      <td>11</td>\n",
              "      <td>Удовлетворительно</td>\n",
              "    </tr>\n",
              "  </tbody>\n",
              "</table>\n",
              "</div>"
            ],
            "text/plain": [
              "       ID Subject school sex  age address famsize Pstatus Medu Fedu      Mjob  \\\n",
              "2  102965     Por     GP   M   16       U     LE3       T    1    2    health   \n",
              "4  103131     Por     GP   F   16       U     GT3       T    1    1   at_home   \n",
              "5  103144     Por     GP   M   18       U     LE3       T    3    1  services   \n",
              "6  105257     Por     MS   F   18       U     GT3       T    1    1     other   \n",
              "9  108089     Por     MS   M   16       R     GT3       T    3    4     other   \n",
              "\n",
              "       Fjob  reason guardian traveltime  studytime  failures schoolsup famsup  \\\n",
              "2  services  course   mother          2          1         2        no     no   \n",
              "4     other    home   mother          2          1         0        no    yes   \n",
              "5  services  course   mother          2          1         0        no     no   \n",
              "6     other  course   mother          2          2         0        no     no   \n",
              "9    health   other   mother          3          2         0        no     no   \n",
              "\n",
              "  paid activities nursery higher internet romantic famrel freetime goout Dalc  \\\n",
              "2   no         no      no    yes      yes       no      4        4     5    3   \n",
              "4   no         no     yes    yes       no       no      4        3     2    1   \n",
              "5   no        yes     yes    yes      yes      yes      3        3     4    4   \n",
              "6   no        yes     yes    yes       no       no      1        1     1    1   \n",
              "9   no         no      no    yes       no       no      3        4     5    1   \n",
              "\n",
              "  Walc health  absences cheating  G1  G2  G3                GPA  \n",
              "2    5      5         0      yes   9   8  10  Удовлетворительно  \n",
              "4    4      5         2      yes  12  13  13  Удовлетворительно  \n",
              "5    5      4         2       no  11  11  12  Удовлетворительно  \n",
              "6    1      5         6       no  11  12   9  Удовлетворительно  \n",
              "9    2      5         4       no   9  10  11  Удовлетворительно  "
            ]
          },
          "metadata": {
            "tags": []
          },
          "execution_count": 764
        }
      ]
    },
    {
      "cell_type": "code",
      "metadata": {
        "colab": {
          "base_uri": "https://localhost:8080/",
          "height": 217
        },
        "id": "zj_QnqUXr0xh",
        "outputId": "0ee54bec-d20d-48c6-9ac8-ec0298f07635"
      },
      "source": [
        "enc_data[enc_data['GPA'] == 1].head()"
      ],
      "execution_count": 765,
      "outputs": [
        {
          "output_type": "execute_result",
          "data": {
            "text/html": [
              "<div>\n",
              "<style scoped>\n",
              "    .dataframe tbody tr th:only-of-type {\n",
              "        vertical-align: middle;\n",
              "    }\n",
              "\n",
              "    .dataframe tbody tr th {\n",
              "        vertical-align: top;\n",
              "    }\n",
              "\n",
              "    .dataframe thead th {\n",
              "        text-align: right;\n",
              "    }\n",
              "</style>\n",
              "<table border=\"1\" class=\"dataframe\">\n",
              "  <thead>\n",
              "    <tr style=\"text-align: right;\">\n",
              "      <th></th>\n",
              "      <th>ID</th>\n",
              "      <th>Subject</th>\n",
              "      <th>school</th>\n",
              "      <th>sex</th>\n",
              "      <th>age</th>\n",
              "      <th>address</th>\n",
              "      <th>famsize</th>\n",
              "      <th>Pstatus</th>\n",
              "      <th>Medu</th>\n",
              "      <th>Fedu</th>\n",
              "      <th>Mjob</th>\n",
              "      <th>Fjob</th>\n",
              "      <th>reason</th>\n",
              "      <th>guardian</th>\n",
              "      <th>traveltime</th>\n",
              "      <th>studytime</th>\n",
              "      <th>failures</th>\n",
              "      <th>schoolsup</th>\n",
              "      <th>famsup</th>\n",
              "      <th>paid</th>\n",
              "      <th>activities</th>\n",
              "      <th>nursery</th>\n",
              "      <th>higher</th>\n",
              "      <th>internet</th>\n",
              "      <th>romantic</th>\n",
              "      <th>famrel</th>\n",
              "      <th>freetime</th>\n",
              "      <th>goout</th>\n",
              "      <th>Dalc</th>\n",
              "      <th>Walc</th>\n",
              "      <th>health</th>\n",
              "      <th>absences</th>\n",
              "      <th>cheating</th>\n",
              "      <th>G1</th>\n",
              "      <th>G2</th>\n",
              "      <th>G3</th>\n",
              "      <th>GPA</th>\n",
              "    </tr>\n",
              "  </thead>\n",
              "  <tbody>\n",
              "    <tr>\n",
              "      <th>2</th>\n",
              "      <td>102965</td>\n",
              "      <td>0</td>\n",
              "      <td>0</td>\n",
              "      <td>1</td>\n",
              "      <td>16</td>\n",
              "      <td>0</td>\n",
              "      <td>1</td>\n",
              "      <td>1</td>\n",
              "      <td>1</td>\n",
              "      <td>2</td>\n",
              "      <td>2</td>\n",
              "      <td>1</td>\n",
              "      <td>0</td>\n",
              "      <td>1</td>\n",
              "      <td>2</td>\n",
              "      <td>1</td>\n",
              "      <td>2</td>\n",
              "      <td>0</td>\n",
              "      <td>0</td>\n",
              "      <td>0</td>\n",
              "      <td>0</td>\n",
              "      <td>1</td>\n",
              "      <td>0</td>\n",
              "      <td>0</td>\n",
              "      <td>0</td>\n",
              "      <td>4</td>\n",
              "      <td>4</td>\n",
              "      <td>5</td>\n",
              "      <td>3</td>\n",
              "      <td>5</td>\n",
              "      <td>5</td>\n",
              "      <td>0</td>\n",
              "      <td>1</td>\n",
              "      <td>9</td>\n",
              "      <td>8</td>\n",
              "      <td>10</td>\n",
              "      <td>1</td>\n",
              "    </tr>\n",
              "    <tr>\n",
              "      <th>4</th>\n",
              "      <td>103131</td>\n",
              "      <td>0</td>\n",
              "      <td>0</td>\n",
              "      <td>0</td>\n",
              "      <td>16</td>\n",
              "      <td>0</td>\n",
              "      <td>0</td>\n",
              "      <td>1</td>\n",
              "      <td>1</td>\n",
              "      <td>1</td>\n",
              "      <td>3</td>\n",
              "      <td>0</td>\n",
              "      <td>1</td>\n",
              "      <td>1</td>\n",
              "      <td>2</td>\n",
              "      <td>1</td>\n",
              "      <td>0</td>\n",
              "      <td>0</td>\n",
              "      <td>1</td>\n",
              "      <td>0</td>\n",
              "      <td>0</td>\n",
              "      <td>0</td>\n",
              "      <td>0</td>\n",
              "      <td>1</td>\n",
              "      <td>0</td>\n",
              "      <td>4</td>\n",
              "      <td>3</td>\n",
              "      <td>2</td>\n",
              "      <td>1</td>\n",
              "      <td>4</td>\n",
              "      <td>5</td>\n",
              "      <td>2</td>\n",
              "      <td>1</td>\n",
              "      <td>12</td>\n",
              "      <td>13</td>\n",
              "      <td>13</td>\n",
              "      <td>1</td>\n",
              "    </tr>\n",
              "    <tr>\n",
              "      <th>5</th>\n",
              "      <td>103144</td>\n",
              "      <td>0</td>\n",
              "      <td>0</td>\n",
              "      <td>1</td>\n",
              "      <td>18</td>\n",
              "      <td>0</td>\n",
              "      <td>1</td>\n",
              "      <td>1</td>\n",
              "      <td>3</td>\n",
              "      <td>1</td>\n",
              "      <td>0</td>\n",
              "      <td>1</td>\n",
              "      <td>0</td>\n",
              "      <td>1</td>\n",
              "      <td>2</td>\n",
              "      <td>1</td>\n",
              "      <td>0</td>\n",
              "      <td>0</td>\n",
              "      <td>0</td>\n",
              "      <td>0</td>\n",
              "      <td>1</td>\n",
              "      <td>0</td>\n",
              "      <td>0</td>\n",
              "      <td>0</td>\n",
              "      <td>1</td>\n",
              "      <td>3</td>\n",
              "      <td>3</td>\n",
              "      <td>4</td>\n",
              "      <td>4</td>\n",
              "      <td>5</td>\n",
              "      <td>4</td>\n",
              "      <td>2</td>\n",
              "      <td>0</td>\n",
              "      <td>11</td>\n",
              "      <td>11</td>\n",
              "      <td>12</td>\n",
              "      <td>1</td>\n",
              "    </tr>\n",
              "    <tr>\n",
              "      <th>6</th>\n",
              "      <td>105257</td>\n",
              "      <td>0</td>\n",
              "      <td>1</td>\n",
              "      <td>0</td>\n",
              "      <td>18</td>\n",
              "      <td>0</td>\n",
              "      <td>0</td>\n",
              "      <td>1</td>\n",
              "      <td>1</td>\n",
              "      <td>1</td>\n",
              "      <td>1</td>\n",
              "      <td>0</td>\n",
              "      <td>0</td>\n",
              "      <td>1</td>\n",
              "      <td>2</td>\n",
              "      <td>2</td>\n",
              "      <td>0</td>\n",
              "      <td>0</td>\n",
              "      <td>0</td>\n",
              "      <td>0</td>\n",
              "      <td>1</td>\n",
              "      <td>0</td>\n",
              "      <td>0</td>\n",
              "      <td>1</td>\n",
              "      <td>0</td>\n",
              "      <td>1</td>\n",
              "      <td>1</td>\n",
              "      <td>1</td>\n",
              "      <td>1</td>\n",
              "      <td>1</td>\n",
              "      <td>5</td>\n",
              "      <td>6</td>\n",
              "      <td>0</td>\n",
              "      <td>11</td>\n",
              "      <td>12</td>\n",
              "      <td>9</td>\n",
              "      <td>1</td>\n",
              "    </tr>\n",
              "    <tr>\n",
              "      <th>9</th>\n",
              "      <td>108089</td>\n",
              "      <td>0</td>\n",
              "      <td>1</td>\n",
              "      <td>1</td>\n",
              "      <td>16</td>\n",
              "      <td>1</td>\n",
              "      <td>0</td>\n",
              "      <td>1</td>\n",
              "      <td>3</td>\n",
              "      <td>4</td>\n",
              "      <td>1</td>\n",
              "      <td>2</td>\n",
              "      <td>3</td>\n",
              "      <td>1</td>\n",
              "      <td>3</td>\n",
              "      <td>2</td>\n",
              "      <td>0</td>\n",
              "      <td>0</td>\n",
              "      <td>0</td>\n",
              "      <td>0</td>\n",
              "      <td>0</td>\n",
              "      <td>1</td>\n",
              "      <td>0</td>\n",
              "      <td>1</td>\n",
              "      <td>0</td>\n",
              "      <td>3</td>\n",
              "      <td>4</td>\n",
              "      <td>5</td>\n",
              "      <td>1</td>\n",
              "      <td>2</td>\n",
              "      <td>5</td>\n",
              "      <td>4</td>\n",
              "      <td>0</td>\n",
              "      <td>9</td>\n",
              "      <td>10</td>\n",
              "      <td>11</td>\n",
              "      <td>1</td>\n",
              "    </tr>\n",
              "  </tbody>\n",
              "</table>\n",
              "</div>"
            ],
            "text/plain": [
              "       ID Subject school  sex  age address famsize Pstatus Medu Fedu Mjob  \\\n",
              "2  102965       0      0    1   16       0       1       1    1    2    2   \n",
              "4  103131       0      0    0   16       0       0       1    1    1    3   \n",
              "5  103144       0      0    1   18       0       1       1    3    1    0   \n",
              "6  105257       0      1    0   18       0       0       1    1    1    1   \n",
              "9  108089       0      1    1   16       1       0       1    3    4    1   \n",
              "\n",
              "  Fjob reason guardian  traveltime studytime  failures schoolsup  famsup  \\\n",
              "2    1      0        1           2         1         2         0       0   \n",
              "4    0      1        1           2         1         0         0       1   \n",
              "5    1      0        1           2         1         0         0       0   \n",
              "6    0      0        1           2         2         0         0       0   \n",
              "9    2      3        1           3         2         0         0       0   \n",
              "\n",
              "   paid activities nursery higher  internet  romantic famrel freetime goout  \\\n",
              "2     0          0       1      0         0         0      4        4     5   \n",
              "4     0          0       0      0         1         0      4        3     2   \n",
              "5     0          1       0      0         0         1      3        3     4   \n",
              "6     0          1       0      0         1         0      1        1     1   \n",
              "9     0          0       1      0         1         0      3        4     5   \n",
              "\n",
              "   Dalc  Walc health  absences cheating  G1  G2  G3  GPA  \n",
              "2     3     5      5         0        1   9   8  10    1  \n",
              "4     1     4      5         2        1  12  13  13    1  \n",
              "5     4     5      4         2        0  11  11  12    1  \n",
              "6     1     1      5         6        0  11  12   9    1  \n",
              "9     1     2      5         4        0   9  10  11    1  "
            ]
          },
          "metadata": {
            "tags": []
          },
          "execution_count": 765
        }
      ]
    },
    {
      "cell_type": "code",
      "metadata": {
        "colab": {
          "base_uri": "https://localhost:8080/",
          "height": 281
        },
        "id": "sWxi3nH4ZoxL",
        "outputId": "9494801d-9e86-4e70-964f-fa40d1e1d164"
      },
      "source": [
        "enc_data['reason'] = enc_data['reason'].astype(int)\n",
        "enc_data[['GPA', 'reason']].plot.kde()"
      ],
      "execution_count": 766,
      "outputs": [
        {
          "output_type": "execute_result",
          "data": {
            "text/plain": [
              "<matplotlib.axes._subplots.AxesSubplot at 0x7fb40ca56390>"
            ]
          },
          "metadata": {
            "tags": []
          },
          "execution_count": 766
        },
        {
          "output_type": "display_data",
          "data": {
            "image/png": "[encoded data removed]",
            "text/plain": [
              "<Figure size 432x288 with 1 Axes>"
            ]
          },
          "metadata": {
            "tags": [],
            "needs_background": "light"
          }
        }
      ]
    },
    {
      "cell_type": "markdown",
      "metadata": {
        "id": "HOV8UKSaKhPA"
      },
      "source": [
        "- Распределение этих двух признаков достаточно сильно совпадает в случаях, когда ученики имеют хорошую успеваемость и выбрали школу из-за читаемых курсов, а также в случае отличной успеваемости и иных причин выбора школы\n",
        "- Но достаточно сильное различие в распределении наблюдается в случае с выбором школы из-за близости к дому и удовлетворительной успеваемостью"
      ]
    },
    {
      "cell_type": "markdown",
      "metadata": {
        "id": "rW89tuigqhln"
      },
      "source": [
        "### Задание 12  \n",
        "  \n",
        "Предложите простую модель для определения (предсказания) итоговой оценки студента по 4-х балльной системе. Оцените точность предложенной модели. "
      ]
    },
    {
      "cell_type": "code",
      "metadata": {
        "colab": {
          "base_uri": "https://localhost:8080/"
        },
        "id": "bgeBE37uqhlo",
        "outputId": "0b4fc276-c8c7-45ad-ca4d-d273d5710a0a"
      },
      "source": [
        "from sklearn.linear_model import LogisticRegression\n",
        "from sklearn.model_selection import train_test_split\n",
        "from sklearn.metrics import classification_report\n",
        "\n",
        "X_train, X_test, y_train, y_test = train_test_split(\n",
        "    enc_data.drop(['ID', 'G1', 'G2', 'G3'], axis=1), enc_data['GPA'])\n",
        "\n",
        "lr = LogisticRegression(max_iter=10000)\n",
        "lr.fit(X_train, y_train)"
      ],
      "execution_count": 767,
      "outputs": [
        {
          "output_type": "execute_result",
          "data": {
            "text/plain": [
              "LogisticRegression(C=1.0, class_weight=None, dual=False, fit_intercept=True,\n",
              "                   intercept_scaling=1, l1_ratio=None, max_iter=10000,\n",
              "                   multi_class='auto', n_jobs=None, penalty='l2',\n",
              "                   random_state=None, solver='lbfgs', tol=0.0001, verbose=0,\n",
              "                   warm_start=False)"
            ]
          },
          "metadata": {
            "tags": []
          },
          "execution_count": 767
        }
      ]
    },
    {
      "cell_type": "code",
      "metadata": {
        "colab": {
          "base_uri": "https://localhost:8080/"
        },
        "id": "UAse4t52hjTC",
        "outputId": "d6529852-7de4-4599-b8f4-f19e983ead77"
      },
      "source": [
        "print(classification_report(lr.predict(X_test), y_test))"
      ],
      "execution_count": 768,
      "outputs": [
        {
          "output_type": "stream",
          "text": [
            "              precision    recall  f1-score   support\n",
            "\n",
            "           0       1.00      1.00      1.00        57\n",
            "           1       1.00      0.95      0.97       162\n",
            "           2       0.38      0.56      0.45         9\n",
            "           3       0.60      1.00      0.75         6\n",
            "\n",
            "    accuracy                           0.95       234\n",
            "   macro avg       0.75      0.88      0.79       234\n",
            "weighted avg       0.97      0.95      0.96       234\n",
            "\n"
          ],
          "name": "stdout"
        }
      ]
    },
    {
      "cell_type": "markdown",
      "metadata": {
        "id": "1O138i5tyFPg"
      },
      "source": [
        "- Weighted F1-score составляет 96%, что достаточно неплохо, но было бы лучше попробовать бустинги типа xgboost или lightgbm, а не родимый логрег...\n",
        "- У меня возникли совсем большие проблемы со 2 классом. Вероятно, IQR определил слишком много выбросов и мы удалили много важного, надо было использовать z-score."
      ]
    },
    {
      "cell_type": "markdown",
      "metadata": {
        "id": "jhjhCtyRqhlo"
      },
      "source": [
        "### Задание * (бонусное)  \n",
        "  \n",
        "Дополнительное исследование данных и выводы положительно скажутся на оценке. "
      ]
    },
    {
      "cell_type": "code",
      "metadata": {
        "id": "uFaBoWCBqhlo"
      },
      "source": [
        "# Многие интересные выводы относительно этого написаны сразу под заданиями ;) \n",
        "# Не разрывать же изложение"
      ],
      "execution_count": null,
      "outputs": []
    }
  ]
}